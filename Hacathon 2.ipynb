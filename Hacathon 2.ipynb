{
 "cells": [
  {
   "cell_type": "code",
   "execution_count": 1,
   "id": "49dde6f0",
   "metadata": {},
   "outputs": [],
   "source": [
    "import pandas as pd\n",
    "import numpy as np\n",
    "import matplotlib.pyplot as plt\n",
    "import seaborn as sns\n",
    "%matplotlib inline"
   ]
  },
  {
   "cell_type": "code",
   "execution_count": 2,
   "id": "c7902271",
   "metadata": {},
   "outputs": [
    {
     "name": "stdout",
     "output_type": "stream",
     "text": [
      "C:\\Users\\Sanja\\OneDrive\\Desktop\\Hacathon 2\n"
     ]
    }
   ],
   "source": [
    "import io\n",
    "%cd \"C:\\Users\\Sanja\\OneDrive\\Desktop\\Hacathon 2\""
   ]
  },
  {
   "cell_type": "code",
   "execution_count": 3,
   "id": "862291b2",
   "metadata": {},
   "outputs": [],
   "source": [
    "train=pd.read_csv(\"employee_train.csv\")\n",
    "test=pd.read_csv(\"employee_test.csv\")"
   ]
  },
  {
   "cell_type": "markdown",
   "id": "3382deb4",
   "metadata": {},
   "source": [
    "### Data Cleaning"
   ]
  },
  {
   "cell_type": "code",
   "execution_count": 4,
   "id": "24ee8412",
   "metadata": {
    "scrolled": false
   },
   "outputs": [
    {
     "name": "stdout",
     "output_type": "stream",
     "text": [
      "<class 'pandas.core.frame.DataFrame'>\n",
      "RangeIndex: 1048 entries, 0 to 1047\n",
      "Data columns (total 28 columns):\n",
      " #   Column                     Non-Null Count  Dtype \n",
      "---  ------                     --------------  ----- \n",
      " 0   S.No                       1048 non-null   int64 \n",
      " 1   Timestamp                  1048 non-null   object\n",
      " 2   Age                        1048 non-null   int64 \n",
      " 3   Gender                     1048 non-null   object\n",
      " 4   Country                    1048 non-null   object\n",
      " 5   state                      636 non-null    object\n",
      " 6   self_employed              1030 non-null   object\n",
      " 7   family_history             1048 non-null   object\n",
      " 8   treatment                  1048 non-null   object\n",
      " 9   work_interfere             812 non-null    object\n",
      " 10  no_employees               1048 non-null   object\n",
      " 11  remote_work                1048 non-null   object\n",
      " 12  tech_company               1048 non-null   object\n",
      " 13  benefits                   1035 non-null   object\n",
      " 14  care_options               1048 non-null   object\n",
      " 15  wellness_program           1044 non-null   object\n",
      " 16  seek_help                  1048 non-null   object\n",
      " 17  anonymity                  1048 non-null   object\n",
      " 18  leave                      1044 non-null   object\n",
      " 19  mental_health_consequence  1048 non-null   object\n",
      " 20  phys_health_consequence    1048 non-null   object\n",
      " 21  coworkers                  1048 non-null   object\n",
      " 22  supervisor                 1048 non-null   object\n",
      " 23  mental_health_interview    1048 non-null   object\n",
      " 24  phys_health_interview      1048 non-null   object\n",
      " 25  mental_vs_physical         1048 non-null   object\n",
      " 26  obs_consequence            1048 non-null   object\n",
      " 27  comments                   132 non-null    object\n",
      "dtypes: int64(2), object(26)\n",
      "memory usage: 229.4+ KB\n",
      "None\n",
      "<class 'pandas.core.frame.DataFrame'>\n",
      "RangeIndex: 210 entries, 0 to 209\n",
      "Data columns (total 27 columns):\n",
      " #   Column                     Non-Null Count  Dtype \n",
      "---  ------                     --------------  ----- \n",
      " 0   S.No                       210 non-null    int64 \n",
      " 1   Timestamp                  210 non-null    object\n",
      " 2   Age                        210 non-null    int64 \n",
      " 3   Gender                     210 non-null    object\n",
      " 4   Country                    210 non-null    object\n",
      " 5   state                      107 non-null    object\n",
      " 6   self_employed              210 non-null    object\n",
      " 7   family_history             210 non-null    object\n",
      " 8   work_interfere             182 non-null    object\n",
      " 9   no_employees               210 non-null    object\n",
      " 10  remote_work                210 non-null    object\n",
      " 11  tech_company               210 non-null    object\n",
      " 12  benefits                   207 non-null    object\n",
      " 13  care_options               210 non-null    object\n",
      " 14  wellness_program           208 non-null    object\n",
      " 15  seek_help                  210 non-null    object\n",
      " 16  anonymity                  210 non-null    object\n",
      " 17  leave                      205 non-null    object\n",
      " 18  mental_health_consequence  210 non-null    object\n",
      " 19  phys_health_consequence    210 non-null    object\n",
      " 20  coworkers                  210 non-null    object\n",
      " 21  supervisor                 210 non-null    object\n",
      " 22  mental_health_interview    210 non-null    object\n",
      " 23  phys_health_interview      210 non-null    object\n",
      " 24  mental_vs_physical         210 non-null    object\n",
      " 25  obs_consequence            210 non-null    object\n",
      " 26  comments                   32 non-null     object\n",
      "dtypes: int64(2), object(25)\n",
      "memory usage: 44.4+ KB\n",
      "None\n"
     ]
    }
   ],
   "source": [
    "print(train.info())\n",
    "print(test.info())"
   ]
  },
  {
   "cell_type": "code",
   "execution_count": 5,
   "id": "fccd81ce",
   "metadata": {},
   "outputs": [],
   "source": [
    "# temporarily add dependent variable to test data\n",
    "\n",
    "test['treatment']='test'"
   ]
  },
  {
   "cell_type": "code",
   "execution_count": 6,
   "id": "f5883222",
   "metadata": {},
   "outputs": [],
   "source": [
    "# concat both the dataframes for perprocessing\n",
    "\n",
    "combinedf=pd.concat([train,test],axis=0)"
   ]
  },
  {
   "cell_type": "code",
   "execution_count": 7,
   "id": "64ecc9ff",
   "metadata": {},
   "outputs": [
    {
     "data": {
      "text/plain": [
       "(1258, 28)"
      ]
     },
     "execution_count": 7,
     "metadata": {},
     "output_type": "execute_result"
    }
   ],
   "source": [
    "combinedf.shape"
   ]
  },
  {
   "cell_type": "code",
   "execution_count": 8,
   "id": "2d2add67",
   "metadata": {},
   "outputs": [
    {
     "data": {
      "text/html": [
       "<div>\n",
       "<style scoped>\n",
       "    .dataframe tbody tr th:only-of-type {\n",
       "        vertical-align: middle;\n",
       "    }\n",
       "\n",
       "    .dataframe tbody tr th {\n",
       "        vertical-align: top;\n",
       "    }\n",
       "\n",
       "    .dataframe thead th {\n",
       "        text-align: right;\n",
       "    }\n",
       "</style>\n",
       "<table border=\"1\" class=\"dataframe\">\n",
       "  <thead>\n",
       "    <tr style=\"text-align: right;\">\n",
       "      <th></th>\n",
       "      <th>S.No</th>\n",
       "      <th>Timestamp</th>\n",
       "      <th>Age</th>\n",
       "      <th>Gender</th>\n",
       "      <th>Country</th>\n",
       "      <th>state</th>\n",
       "      <th>self_employed</th>\n",
       "      <th>family_history</th>\n",
       "      <th>treatment</th>\n",
       "      <th>work_interfere</th>\n",
       "      <th>...</th>\n",
       "      <th>leave</th>\n",
       "      <th>mental_health_consequence</th>\n",
       "      <th>phys_health_consequence</th>\n",
       "      <th>coworkers</th>\n",
       "      <th>supervisor</th>\n",
       "      <th>mental_health_interview</th>\n",
       "      <th>phys_health_interview</th>\n",
       "      <th>mental_vs_physical</th>\n",
       "      <th>obs_consequence</th>\n",
       "      <th>comments</th>\n",
       "    </tr>\n",
       "  </thead>\n",
       "  <tbody>\n",
       "    <tr>\n",
       "      <th>0</th>\n",
       "      <td>1</td>\n",
       "      <td>8/27/2014 11:29</td>\n",
       "      <td>37</td>\n",
       "      <td>Female</td>\n",
       "      <td>United States</td>\n",
       "      <td>IL</td>\n",
       "      <td>NaN</td>\n",
       "      <td>No</td>\n",
       "      <td>Yes</td>\n",
       "      <td>Often</td>\n",
       "      <td>...</td>\n",
       "      <td>Somewhat easy</td>\n",
       "      <td>No</td>\n",
       "      <td>No</td>\n",
       "      <td>Some of them</td>\n",
       "      <td>Yes</td>\n",
       "      <td>No</td>\n",
       "      <td>Maybe</td>\n",
       "      <td>Yes</td>\n",
       "      <td>No</td>\n",
       "      <td>NaN</td>\n",
       "    </tr>\n",
       "    <tr>\n",
       "      <th>1</th>\n",
       "      <td>2</td>\n",
       "      <td>8/27/2014 11:29</td>\n",
       "      <td>44</td>\n",
       "      <td>M</td>\n",
       "      <td>United States</td>\n",
       "      <td>IN</td>\n",
       "      <td>NaN</td>\n",
       "      <td>No</td>\n",
       "      <td>No</td>\n",
       "      <td>Rarely</td>\n",
       "      <td>...</td>\n",
       "      <td>Don't know</td>\n",
       "      <td>Maybe</td>\n",
       "      <td>No</td>\n",
       "      <td>No</td>\n",
       "      <td>No</td>\n",
       "      <td>No</td>\n",
       "      <td>No</td>\n",
       "      <td>Don't know</td>\n",
       "      <td>No</td>\n",
       "      <td>NaN</td>\n",
       "    </tr>\n",
       "    <tr>\n",
       "      <th>2</th>\n",
       "      <td>3</td>\n",
       "      <td>8/27/2014 11:29</td>\n",
       "      <td>32</td>\n",
       "      <td>Male</td>\n",
       "      <td>Canada</td>\n",
       "      <td>NaN</td>\n",
       "      <td>NaN</td>\n",
       "      <td>No</td>\n",
       "      <td>No</td>\n",
       "      <td>Rarely</td>\n",
       "      <td>...</td>\n",
       "      <td>Somewhat difficult</td>\n",
       "      <td>No</td>\n",
       "      <td>No</td>\n",
       "      <td>Yes</td>\n",
       "      <td>Yes</td>\n",
       "      <td>Yes</td>\n",
       "      <td>Yes</td>\n",
       "      <td>No</td>\n",
       "      <td>No</td>\n",
       "      <td>NaN</td>\n",
       "    </tr>\n",
       "    <tr>\n",
       "      <th>3</th>\n",
       "      <td>4</td>\n",
       "      <td>8/27/2014 11:29</td>\n",
       "      <td>31</td>\n",
       "      <td>Male</td>\n",
       "      <td>United Kingdom</td>\n",
       "      <td>NaN</td>\n",
       "      <td>NaN</td>\n",
       "      <td>Yes</td>\n",
       "      <td>Yes</td>\n",
       "      <td>Often</td>\n",
       "      <td>...</td>\n",
       "      <td>Somewhat difficult</td>\n",
       "      <td>Yes</td>\n",
       "      <td>Yes</td>\n",
       "      <td>Some of them</td>\n",
       "      <td>No</td>\n",
       "      <td>Maybe</td>\n",
       "      <td>Maybe</td>\n",
       "      <td>No</td>\n",
       "      <td>Yes</td>\n",
       "      <td>NaN</td>\n",
       "    </tr>\n",
       "    <tr>\n",
       "      <th>4</th>\n",
       "      <td>5</td>\n",
       "      <td>8/27/2014 11:30</td>\n",
       "      <td>31</td>\n",
       "      <td>Male</td>\n",
       "      <td>United States</td>\n",
       "      <td>TX</td>\n",
       "      <td>NaN</td>\n",
       "      <td>No</td>\n",
       "      <td>No</td>\n",
       "      <td>Never</td>\n",
       "      <td>...</td>\n",
       "      <td>Don't know</td>\n",
       "      <td>No</td>\n",
       "      <td>No</td>\n",
       "      <td>Some of them</td>\n",
       "      <td>Yes</td>\n",
       "      <td>Yes</td>\n",
       "      <td>Yes</td>\n",
       "      <td>Don't know</td>\n",
       "      <td>No</td>\n",
       "      <td>NaN</td>\n",
       "    </tr>\n",
       "  </tbody>\n",
       "</table>\n",
       "<p>5 rows × 28 columns</p>\n",
       "</div>"
      ],
      "text/plain": [
       "   S.No        Timestamp  Age  Gender         Country state self_employed  \\\n",
       "0     1  8/27/2014 11:29   37  Female   United States    IL           NaN   \n",
       "1     2  8/27/2014 11:29   44       M   United States    IN           NaN   \n",
       "2     3  8/27/2014 11:29   32    Male          Canada   NaN           NaN   \n",
       "3     4  8/27/2014 11:29   31    Male  United Kingdom   NaN           NaN   \n",
       "4     5  8/27/2014 11:30   31    Male   United States    TX           NaN   \n",
       "\n",
       "  family_history treatment work_interfere  ...               leave  \\\n",
       "0             No       Yes          Often  ...       Somewhat easy   \n",
       "1             No        No         Rarely  ...          Don't know   \n",
       "2             No        No         Rarely  ...  Somewhat difficult   \n",
       "3            Yes       Yes          Often  ...  Somewhat difficult   \n",
       "4             No        No          Never  ...          Don't know   \n",
       "\n",
       "  mental_health_consequence phys_health_consequence     coworkers supervisor  \\\n",
       "0                        No                      No  Some of them        Yes   \n",
       "1                     Maybe                      No            No         No   \n",
       "2                        No                      No           Yes        Yes   \n",
       "3                       Yes                     Yes  Some of them         No   \n",
       "4                        No                      No  Some of them        Yes   \n",
       "\n",
       "  mental_health_interview phys_health_interview mental_vs_physical  \\\n",
       "0                      No                 Maybe                Yes   \n",
       "1                      No                    No         Don't know   \n",
       "2                     Yes                   Yes                 No   \n",
       "3                   Maybe                 Maybe                 No   \n",
       "4                     Yes                   Yes         Don't know   \n",
       "\n",
       "  obs_consequence comments  \n",
       "0              No      NaN  \n",
       "1              No      NaN  \n",
       "2              No      NaN  \n",
       "3             Yes      NaN  \n",
       "4              No      NaN  \n",
       "\n",
       "[5 rows x 28 columns]"
      ]
     },
     "execution_count": 8,
     "metadata": {},
     "output_type": "execute_result"
    }
   ],
   "source": [
    "combinedf.head()"
   ]
  },
  {
   "cell_type": "code",
   "execution_count": 9,
   "id": "9057c3b6",
   "metadata": {},
   "outputs": [],
   "source": [
    "combinedf=combinedf.drop(['S.No','Timestamp','comments'],axis=1)"
   ]
  },
  {
   "cell_type": "code",
   "execution_count": 10,
   "id": "2f2e9393",
   "metadata": {
    "scrolled": false
   },
   "outputs": [
    {
     "data": {
      "text/plain": [
       "state                        515\n",
       "work_interfere               264\n",
       "self_employed                 18\n",
       "benefits                      16\n",
       "leave                          9\n",
       "wellness_program               6\n",
       "Age                            0\n",
       "anonymity                      0\n",
       "mental_vs_physical             0\n",
       "phys_health_interview          0\n",
       "mental_health_interview        0\n",
       "supervisor                     0\n",
       "coworkers                      0\n",
       "phys_health_consequence        0\n",
       "mental_health_consequence      0\n",
       "care_options                   0\n",
       "seek_help                      0\n",
       "Gender                         0\n",
       "tech_company                   0\n",
       "remote_work                    0\n",
       "no_employees                   0\n",
       "treatment                      0\n",
       "family_history                 0\n",
       "Country                        0\n",
       "obs_consequence                0\n",
       "dtype: int64"
      ]
     },
     "execution_count": 10,
     "metadata": {},
     "output_type": "execute_result"
    }
   ],
   "source": [
    "combinedf.isnull().sum().sort_values(ascending=False)"
   ]
  },
  {
   "cell_type": "code",
   "execution_count": 11,
   "id": "5fbf807d",
   "metadata": {
    "scrolled": false
   },
   "outputs": [
    {
     "data": {
      "text/plain": [
       " 29             85\n",
       " 32             82\n",
       " 26             75\n",
       " 27             71\n",
       " 33             70\n",
       " 28             68\n",
       " 31             67\n",
       " 34             65\n",
       " 30             63\n",
       " 25             61\n",
       " 35             55\n",
       " 23             51\n",
       " 24             46\n",
       " 37             43\n",
       " 38             39\n",
       " 36             37\n",
       " 40             33\n",
       " 39             33\n",
       " 43             28\n",
       " 22             21\n",
       " 42             20\n",
       " 41             20\n",
       " 21             16\n",
       " 45             12\n",
       " 46             12\n",
       " 44             11\n",
       " 19              9\n",
       " 18              7\n",
       " 48              6\n",
       " 50              6\n",
       " 20              6\n",
       " 51              5\n",
       " 49              4\n",
       " 56              4\n",
       " 57              3\n",
       " 54              3\n",
       " 55              3\n",
       " 47              2\n",
       " 60              2\n",
       " 99999999999     1\n",
       " 5               1\n",
       "-1               1\n",
       " 11              1\n",
       " 8               1\n",
       " 61              1\n",
       " 53              1\n",
       "-29              1\n",
       "-1726            1\n",
       " 65              1\n",
       " 62              1\n",
       " 58              1\n",
       " 329             1\n",
       " 72              1\n",
       "Name: Age, dtype: int64"
      ]
     },
     "execution_count": 11,
     "metadata": {},
     "output_type": "execute_result"
    }
   ],
   "source": [
    "combinedf.Age.value_counts(dropna=False)"
   ]
  },
  {
   "cell_type": "code",
   "execution_count": 12,
   "id": "5d43739e",
   "metadata": {
    "scrolled": false
   },
   "outputs": [
    {
     "data": {
      "text/plain": [
       "NaN    515\n",
       "CA     138\n",
       "WA      70\n",
       "NY      57\n",
       "TN      45\n",
       "TX      44\n",
       "OH      30\n",
       "OR      29\n",
       "PA      29\n",
       "IL      28\n",
       "IN      27\n",
       "MI      22\n",
       "MN      21\n",
       "MA      20\n",
       "FL      15\n",
       "NC      14\n",
       "VA      14\n",
       "WI      12\n",
       "GA      12\n",
       "MO      12\n",
       "UT      11\n",
       "CO       9\n",
       "MD       8\n",
       "AL       8\n",
       "AZ       7\n",
       "OK       6\n",
       "NJ       6\n",
       "KY       5\n",
       "SC       5\n",
       "IA       4\n",
       "CT       4\n",
       "DC       4\n",
       "NV       3\n",
       "VT       3\n",
       "SD       3\n",
       "KS       3\n",
       "NH       3\n",
       "WY       2\n",
       "NM       2\n",
       "NE       2\n",
       "WV       1\n",
       "ID       1\n",
       "MS       1\n",
       "RI       1\n",
       "LA       1\n",
       "ME       1\n",
       "Name: state, dtype: int64"
      ]
     },
     "execution_count": 12,
     "metadata": {},
     "output_type": "execute_result"
    }
   ],
   "source": [
    "combinedf.state.value_counts(dropna=False)"
   ]
  },
  {
   "cell_type": "code",
   "execution_count": 13,
   "id": "8a52ecac",
   "metadata": {},
   "outputs": [],
   "source": [
    "combinedf.state=combinedf.state.fillna('Missing')"
   ]
  },
  {
   "cell_type": "code",
   "execution_count": 14,
   "id": "8d397d5a",
   "metadata": {},
   "outputs": [
    {
     "data": {
      "text/plain": [
       "Sometimes    465\n",
       "NaN          264\n",
       "Never        213\n",
       "Rarely       173\n",
       "Often        143\n",
       "Name: work_interfere, dtype: int64"
      ]
     },
     "execution_count": 14,
     "metadata": {},
     "output_type": "execute_result"
    }
   ],
   "source": [
    "combinedf.work_interfere.value_counts(dropna=False)"
   ]
  },
  {
   "cell_type": "code",
   "execution_count": 15,
   "id": "1b843741",
   "metadata": {},
   "outputs": [],
   "source": [
    "combinedf.work_interfere=combinedf.work_interfere.fillna(\"Sometimes\")"
   ]
  },
  {
   "cell_type": "code",
   "execution_count": 16,
   "id": "77069fd5",
   "metadata": {},
   "outputs": [
    {
     "data": {
      "text/plain": [
       "No     1095\n",
       "Yes     145\n",
       "NaN      18\n",
       "Name: self_employed, dtype: int64"
      ]
     },
     "execution_count": 16,
     "metadata": {},
     "output_type": "execute_result"
    }
   ],
   "source": [
    "combinedf.self_employed.value_counts(dropna=False)"
   ]
  },
  {
   "cell_type": "code",
   "execution_count": 17,
   "id": "db1b8afb",
   "metadata": {},
   "outputs": [
    {
     "data": {
      "text/plain": [
       "Yes           477\n",
       "Don't know    392\n",
       "No            373\n",
       "NaN            16\n",
       "Name: benefits, dtype: int64"
      ]
     },
     "execution_count": 17,
     "metadata": {},
     "output_type": "execute_result"
    }
   ],
   "source": [
    "combinedf.benefits.value_counts(dropna=False)"
   ]
  },
  {
   "cell_type": "code",
   "execution_count": 18,
   "id": "f119f62f",
   "metadata": {},
   "outputs": [
    {
     "data": {
      "text/plain": [
       "Don't know            554\n",
       "Somewhat easy         266\n",
       "Very easy             206\n",
       "Somewhat difficult    126\n",
       "Very difficult         97\n",
       "NaN                     9\n",
       "Name: leave, dtype: int64"
      ]
     },
     "execution_count": 18,
     "metadata": {},
     "output_type": "execute_result"
    }
   ],
   "source": [
    "combinedf.leave.value_counts(dropna=False)"
   ]
  },
  {
   "cell_type": "code",
   "execution_count": 19,
   "id": "a2015327",
   "metadata": {},
   "outputs": [
    {
     "data": {
      "text/plain": [
       "No            842\n",
       "Yes           228\n",
       "Don't know    182\n",
       "NaN             6\n",
       "Name: wellness_program, dtype: int64"
      ]
     },
     "execution_count": 19,
     "metadata": {},
     "output_type": "execute_result"
    }
   ],
   "source": [
    "combinedf.wellness_program.value_counts(dropna=False)"
   ]
  },
  {
   "cell_type": "code",
   "execution_count": 20,
   "id": "43e19154",
   "metadata": {},
   "outputs": [],
   "source": [
    " for col in combinedf.columns:\n",
    "        combinedf[col]=combinedf[col].fillna(combinedf[col].value_counts().idxmax())"
   ]
  },
  {
   "cell_type": "code",
   "execution_count": 21,
   "id": "3b983d2b",
   "metadata": {},
   "outputs": [],
   "source": [
    "combinedf.Gender=combinedf.Gender.replace(['male','m','M','Make','Cis Male','Male',\n",
    "                                        'msle','male leaning androgynous','cis male',\n",
    "                                        'Mail','Malr','A little about you','Cis Man',\n",
    "                                        'Guy (-ish) ^_^','something kinda male?',\n",
    "                                        'Male-ish','maile','Mal',\n",
    "                                        'Male (CIS)','Man',\n",
    "                                        'ostensibly male, unsure what that really means'],'Male')"
   ]
  },
  {
   "cell_type": "code",
   "execution_count": 22,
   "id": "851f7715",
   "metadata": {},
   "outputs": [],
   "source": [
    "combinedf.Gender=combinedf.Gender.replace(['f','F','Female','female','Female (trans)',\n",
    "                                           'Female (cis)','cis-female/femme', 'femail','woman',\n",
    "                                           'Femake','Mail','queer/she/they',\n",
    "                                           'Cis Female','Cis Man','Woman','Trans woman',\n",
    "                                        'Guy (-ish) ^_^','Trans-female'],'Female')"
   ]
  },
  {
   "cell_type": "code",
   "execution_count": 23,
   "id": "176db000",
   "metadata": {},
   "outputs": [],
   "source": [
    "combinedf.Gender=combinedf.Gender.replace(['queer','p','Neuter','Agender','Androgyne',\n",
    "                                          'Genderqueer','fluid','Enby',\n",
    "                                           'non-binary','Nah','All'],'Transgender')"
   ]
  },
  {
   "cell_type": "code",
   "execution_count": 24,
   "id": "2b87c720",
   "metadata": {},
   "outputs": [
    {
     "data": {
      "text/plain": [
       "Index(['Age', 'Gender', 'Country', 'state', 'self_employed', 'family_history',\n",
       "       'treatment', 'work_interfere', 'no_employees', 'remote_work',\n",
       "       'tech_company', 'benefits', 'care_options', 'wellness_program',\n",
       "       'seek_help', 'anonymity', 'leave', 'mental_health_consequence',\n",
       "       'phys_health_consequence', 'coworkers', 'supervisor',\n",
       "       'mental_health_interview', 'phys_health_interview',\n",
       "       'mental_vs_physical', 'obs_consequence'],\n",
       "      dtype='object')"
      ]
     },
     "execution_count": 24,
     "metadata": {},
     "output_type": "execute_result"
    }
   ],
   "source": [
    "combinedf.columns"
   ]
  },
  {
   "cell_type": "code",
   "execution_count": 25,
   "id": "81200d63",
   "metadata": {},
   "outputs": [],
   "source": [
    "# Split combined into objcols and numcols for Transformation\n",
    "\n",
    "objcols=combinedf[['Gender', 'Country', 'state', 'self_employed', 'family_history',\n",
    "       'work_interfere', 'no_employees', 'remote_work',\n",
    "       'tech_company', 'benefits', 'care_options', 'wellness_program',\n",
    "       'seek_help', 'anonymity', 'leave', 'mental_health_consequence',\n",
    "       'phys_health_consequence', 'coworkers', 'supervisor',\n",
    "       'mental_health_interview', 'phys_health_interview',\n",
    "       'mental_vs_physical', 'obs_consequence']]\n",
    "\n",
    "numcols=combinedf[['Age','treatment']]"
   ]
  },
  {
   "cell_type": "code",
   "execution_count": 26,
   "id": "b65b9287",
   "metadata": {},
   "outputs": [],
   "source": [
    "from sklearn.preprocessing import LabelEncoder,StandardScaler"
   ]
  },
  {
   "cell_type": "code",
   "execution_count": 27,
   "id": "67b131a1",
   "metadata": {},
   "outputs": [],
   "source": [
    "objcols_encode=pd.get_dummies(objcols)"
   ]
  },
  {
   "cell_type": "code",
   "execution_count": 28,
   "id": "fa2c13ec",
   "metadata": {},
   "outputs": [],
   "source": [
    "objcols_encode['treatment']=numcols.treatment"
   ]
  },
  {
   "cell_type": "code",
   "execution_count": 29,
   "id": "454c40fe",
   "metadata": {},
   "outputs": [],
   "source": [
    "numcols=numcols.drop('treatment',axis=1)"
   ]
  },
  {
   "cell_type": "code",
   "execution_count": 30,
   "id": "f8e212be",
   "metadata": {},
   "outputs": [],
   "source": [
    "numcols_scaled=StandardScaler().fit_transform(numcols)"
   ]
  },
  {
   "cell_type": "code",
   "execution_count": 31,
   "id": "33410573",
   "metadata": {},
   "outputs": [],
   "source": [
    "# convert back to DataFrame\n",
    "\n",
    "numcols_scaled=pd.DataFrame(numcols_scaled,columns=numcols.columns)"
   ]
  },
  {
   "cell_type": "code",
   "execution_count": 32,
   "id": "b6ab089a",
   "metadata": {},
   "outputs": [
    {
     "data": {
      "text/html": [
       "<div>\n",
       "<style scoped>\n",
       "    .dataframe tbody tr th:only-of-type {\n",
       "        vertical-align: middle;\n",
       "    }\n",
       "\n",
       "    .dataframe tbody tr th {\n",
       "        vertical-align: top;\n",
       "    }\n",
       "\n",
       "    .dataframe thead th {\n",
       "        text-align: right;\n",
       "    }\n",
       "</style>\n",
       "<table border=\"1\" class=\"dataframe\">\n",
       "  <thead>\n",
       "    <tr style=\"text-align: right;\">\n",
       "      <th></th>\n",
       "      <th>Age</th>\n",
       "    </tr>\n",
       "  </thead>\n",
       "  <tbody>\n",
       "    <tr>\n",
       "      <th>0</th>\n",
       "      <td>-0.028205</td>\n",
       "    </tr>\n",
       "    <tr>\n",
       "      <th>1</th>\n",
       "      <td>-0.028205</td>\n",
       "    </tr>\n",
       "    <tr>\n",
       "      <th>2</th>\n",
       "      <td>-0.028205</td>\n",
       "    </tr>\n",
       "    <tr>\n",
       "      <th>3</th>\n",
       "      <td>-0.028205</td>\n",
       "    </tr>\n",
       "    <tr>\n",
       "      <th>4</th>\n",
       "      <td>-0.028205</td>\n",
       "    </tr>\n",
       "  </tbody>\n",
       "</table>\n",
       "</div>"
      ],
      "text/plain": [
       "        Age\n",
       "0 -0.028205\n",
       "1 -0.028205\n",
       "2 -0.028205\n",
       "3 -0.028205\n",
       "4 -0.028205"
      ]
     },
     "execution_count": 32,
     "metadata": {},
     "output_type": "execute_result"
    }
   ],
   "source": [
    "numcols_scaled.head()"
   ]
  },
  {
   "cell_type": "code",
   "execution_count": 33,
   "id": "b522b695",
   "metadata": {},
   "outputs": [],
   "source": [
    "objcols_encode=objcols_encode.reset_index()"
   ]
  },
  {
   "cell_type": "code",
   "execution_count": 34,
   "id": "51fd7bec",
   "metadata": {},
   "outputs": [],
   "source": [
    "numcols_scaled=numcols_scaled.reset_index()"
   ]
  },
  {
   "cell_type": "code",
   "execution_count": 35,
   "id": "a90ec9ff",
   "metadata": {},
   "outputs": [
    {
     "data": {
      "text/html": [
       "<div>\n",
       "<style scoped>\n",
       "    .dataframe tbody tr th:only-of-type {\n",
       "        vertical-align: middle;\n",
       "    }\n",
       "\n",
       "    .dataframe tbody tr th {\n",
       "        vertical-align: top;\n",
       "    }\n",
       "\n",
       "    .dataframe thead th {\n",
       "        text-align: right;\n",
       "    }\n",
       "</style>\n",
       "<table border=\"1\" class=\"dataframe\">\n",
       "  <thead>\n",
       "    <tr style=\"text-align: right;\">\n",
       "      <th></th>\n",
       "      <th>index</th>\n",
       "      <th>Gender_Female</th>\n",
       "      <th>Gender_Female</th>\n",
       "      <th>Gender_Male</th>\n",
       "      <th>Gender_Male</th>\n",
       "      <th>Gender_Transgender</th>\n",
       "      <th>Country_Australia</th>\n",
       "      <th>Country_Austria</th>\n",
       "      <th>Country_Bahamas, The</th>\n",
       "      <th>Country_Belgium</th>\n",
       "      <th>...</th>\n",
       "      <th>mental_health_interview_Yes</th>\n",
       "      <th>phys_health_interview_Maybe</th>\n",
       "      <th>phys_health_interview_No</th>\n",
       "      <th>phys_health_interview_Yes</th>\n",
       "      <th>mental_vs_physical_Don't know</th>\n",
       "      <th>mental_vs_physical_No</th>\n",
       "      <th>mental_vs_physical_Yes</th>\n",
       "      <th>obs_consequence_No</th>\n",
       "      <th>obs_consequence_Yes</th>\n",
       "      <th>treatment</th>\n",
       "    </tr>\n",
       "  </thead>\n",
       "  <tbody>\n",
       "    <tr>\n",
       "      <th>0</th>\n",
       "      <td>0</td>\n",
       "      <td>1</td>\n",
       "      <td>0</td>\n",
       "      <td>0</td>\n",
       "      <td>0</td>\n",
       "      <td>0</td>\n",
       "      <td>0</td>\n",
       "      <td>0</td>\n",
       "      <td>0</td>\n",
       "      <td>0</td>\n",
       "      <td>...</td>\n",
       "      <td>0</td>\n",
       "      <td>1</td>\n",
       "      <td>0</td>\n",
       "      <td>0</td>\n",
       "      <td>0</td>\n",
       "      <td>0</td>\n",
       "      <td>1</td>\n",
       "      <td>1</td>\n",
       "      <td>0</td>\n",
       "      <td>Yes</td>\n",
       "    </tr>\n",
       "    <tr>\n",
       "      <th>1</th>\n",
       "      <td>1</td>\n",
       "      <td>0</td>\n",
       "      <td>0</td>\n",
       "      <td>1</td>\n",
       "      <td>0</td>\n",
       "      <td>0</td>\n",
       "      <td>0</td>\n",
       "      <td>0</td>\n",
       "      <td>0</td>\n",
       "      <td>0</td>\n",
       "      <td>...</td>\n",
       "      <td>0</td>\n",
       "      <td>0</td>\n",
       "      <td>1</td>\n",
       "      <td>0</td>\n",
       "      <td>1</td>\n",
       "      <td>0</td>\n",
       "      <td>0</td>\n",
       "      <td>1</td>\n",
       "      <td>0</td>\n",
       "      <td>No</td>\n",
       "    </tr>\n",
       "    <tr>\n",
       "      <th>2</th>\n",
       "      <td>2</td>\n",
       "      <td>0</td>\n",
       "      <td>0</td>\n",
       "      <td>1</td>\n",
       "      <td>0</td>\n",
       "      <td>0</td>\n",
       "      <td>0</td>\n",
       "      <td>0</td>\n",
       "      <td>0</td>\n",
       "      <td>0</td>\n",
       "      <td>...</td>\n",
       "      <td>1</td>\n",
       "      <td>0</td>\n",
       "      <td>0</td>\n",
       "      <td>1</td>\n",
       "      <td>0</td>\n",
       "      <td>1</td>\n",
       "      <td>0</td>\n",
       "      <td>1</td>\n",
       "      <td>0</td>\n",
       "      <td>No</td>\n",
       "    </tr>\n",
       "    <tr>\n",
       "      <th>3</th>\n",
       "      <td>3</td>\n",
       "      <td>0</td>\n",
       "      <td>0</td>\n",
       "      <td>1</td>\n",
       "      <td>0</td>\n",
       "      <td>0</td>\n",
       "      <td>0</td>\n",
       "      <td>0</td>\n",
       "      <td>0</td>\n",
       "      <td>0</td>\n",
       "      <td>...</td>\n",
       "      <td>0</td>\n",
       "      <td>1</td>\n",
       "      <td>0</td>\n",
       "      <td>0</td>\n",
       "      <td>0</td>\n",
       "      <td>1</td>\n",
       "      <td>0</td>\n",
       "      <td>0</td>\n",
       "      <td>1</td>\n",
       "      <td>Yes</td>\n",
       "    </tr>\n",
       "    <tr>\n",
       "      <th>4</th>\n",
       "      <td>4</td>\n",
       "      <td>0</td>\n",
       "      <td>0</td>\n",
       "      <td>1</td>\n",
       "      <td>0</td>\n",
       "      <td>0</td>\n",
       "      <td>0</td>\n",
       "      <td>0</td>\n",
       "      <td>0</td>\n",
       "      <td>0</td>\n",
       "      <td>...</td>\n",
       "      <td>1</td>\n",
       "      <td>0</td>\n",
       "      <td>0</td>\n",
       "      <td>1</td>\n",
       "      <td>1</td>\n",
       "      <td>0</td>\n",
       "      <td>0</td>\n",
       "      <td>1</td>\n",
       "      <td>0</td>\n",
       "      <td>No</td>\n",
       "    </tr>\n",
       "  </tbody>\n",
       "</table>\n",
       "<p>5 rows × 162 columns</p>\n",
       "</div>"
      ],
      "text/plain": [
       "   index  Gender_Female  Gender_Female   Gender_Male  Gender_Male   \\\n",
       "0      0              1               0            0             0   \n",
       "1      1              0               0            1             0   \n",
       "2      2              0               0            1             0   \n",
       "3      3              0               0            1             0   \n",
       "4      4              0               0            1             0   \n",
       "\n",
       "   Gender_Transgender  Country_Australia  Country_Austria  \\\n",
       "0                   0                  0                0   \n",
       "1                   0                  0                0   \n",
       "2                   0                  0                0   \n",
       "3                   0                  0                0   \n",
       "4                   0                  0                0   \n",
       "\n",
       "   Country_Bahamas, The  Country_Belgium  ...  mental_health_interview_Yes  \\\n",
       "0                     0                0  ...                            0   \n",
       "1                     0                0  ...                            0   \n",
       "2                     0                0  ...                            1   \n",
       "3                     0                0  ...                            0   \n",
       "4                     0                0  ...                            1   \n",
       "\n",
       "   phys_health_interview_Maybe  phys_health_interview_No  \\\n",
       "0                            1                         0   \n",
       "1                            0                         1   \n",
       "2                            0                         0   \n",
       "3                            1                         0   \n",
       "4                            0                         0   \n",
       "\n",
       "   phys_health_interview_Yes  mental_vs_physical_Don't know  \\\n",
       "0                          0                              0   \n",
       "1                          0                              1   \n",
       "2                          1                              0   \n",
       "3                          0                              0   \n",
       "4                          1                              1   \n",
       "\n",
       "   mental_vs_physical_No  mental_vs_physical_Yes  obs_consequence_No  \\\n",
       "0                      0                       1                   1   \n",
       "1                      0                       0                   1   \n",
       "2                      1                       0                   1   \n",
       "3                      1                       0                   0   \n",
       "4                      0                       0                   1   \n",
       "\n",
       "   obs_consequence_Yes  treatment  \n",
       "0                    0        Yes  \n",
       "1                    0         No  \n",
       "2                    0         No  \n",
       "3                    1        Yes  \n",
       "4                    0         No  \n",
       "\n",
       "[5 rows x 162 columns]"
      ]
     },
     "execution_count": 35,
     "metadata": {},
     "output_type": "execute_result"
    }
   ],
   "source": [
    "objcols_encode.head()"
   ]
  },
  {
   "cell_type": "code",
   "execution_count": 36,
   "id": "82ce0bae",
   "metadata": {},
   "outputs": [
    {
     "data": {
      "text/plain": [
       "No      536\n",
       "Yes     512\n",
       "test    210\n",
       "Name: treatment, dtype: int64"
      ]
     },
     "execution_count": 36,
     "metadata": {},
     "output_type": "execute_result"
    }
   ],
   "source": [
    "objcols_encode.treatment.value_counts()"
   ]
  },
  {
   "cell_type": "code",
   "execution_count": 37,
   "id": "ee1b4c75",
   "metadata": {},
   "outputs": [],
   "source": [
    "clean_df=pd.concat([numcols_scaled,objcols_encode],axis=1)"
   ]
  },
  {
   "cell_type": "code",
   "execution_count": 38,
   "id": "039e7f4e",
   "metadata": {},
   "outputs": [],
   "source": [
    "train_df=clean_df[clean_df.treatment!='test']\n",
    "test_df=clean_df[clean_df.treatment=='test']"
   ]
  },
  {
   "cell_type": "code",
   "execution_count": 39,
   "id": "5eb2da28",
   "metadata": {},
   "outputs": [],
   "source": [
    "test_df=test_df.drop('treatment',axis=1)"
   ]
  },
  {
   "cell_type": "code",
   "execution_count": 40,
   "id": "8e6729ea",
   "metadata": {},
   "outputs": [],
   "source": [
    "X=train_df.drop('treatment',axis=1)\n",
    "y=train_df.treatment"
   ]
  },
  {
   "cell_type": "code",
   "execution_count": 41,
   "id": "4855b9d2",
   "metadata": {},
   "outputs": [
    {
     "data": {
      "text/html": [
       "<div>\n",
       "<style scoped>\n",
       "    .dataframe tbody tr th:only-of-type {\n",
       "        vertical-align: middle;\n",
       "    }\n",
       "\n",
       "    .dataframe tbody tr th {\n",
       "        vertical-align: top;\n",
       "    }\n",
       "\n",
       "    .dataframe thead th {\n",
       "        text-align: right;\n",
       "    }\n",
       "</style>\n",
       "<table border=\"1\" class=\"dataframe\">\n",
       "  <thead>\n",
       "    <tr style=\"text-align: right;\">\n",
       "      <th></th>\n",
       "      <th>index</th>\n",
       "      <th>Age</th>\n",
       "      <th>index</th>\n",
       "      <th>Gender_Female</th>\n",
       "      <th>Gender_Female</th>\n",
       "      <th>Gender_Male</th>\n",
       "      <th>Gender_Male</th>\n",
       "      <th>Gender_Transgender</th>\n",
       "      <th>Country_Australia</th>\n",
       "      <th>Country_Austria</th>\n",
       "      <th>...</th>\n",
       "      <th>mental_health_interview_No</th>\n",
       "      <th>mental_health_interview_Yes</th>\n",
       "      <th>phys_health_interview_Maybe</th>\n",
       "      <th>phys_health_interview_No</th>\n",
       "      <th>phys_health_interview_Yes</th>\n",
       "      <th>mental_vs_physical_Don't know</th>\n",
       "      <th>mental_vs_physical_No</th>\n",
       "      <th>mental_vs_physical_Yes</th>\n",
       "      <th>obs_consequence_No</th>\n",
       "      <th>obs_consequence_Yes</th>\n",
       "    </tr>\n",
       "  </thead>\n",
       "  <tbody>\n",
       "    <tr>\n",
       "      <th>0</th>\n",
       "      <td>0</td>\n",
       "      <td>-0.028205</td>\n",
       "      <td>0</td>\n",
       "      <td>1</td>\n",
       "      <td>0</td>\n",
       "      <td>0</td>\n",
       "      <td>0</td>\n",
       "      <td>0</td>\n",
       "      <td>0</td>\n",
       "      <td>0</td>\n",
       "      <td>...</td>\n",
       "      <td>1</td>\n",
       "      <td>0</td>\n",
       "      <td>1</td>\n",
       "      <td>0</td>\n",
       "      <td>0</td>\n",
       "      <td>0</td>\n",
       "      <td>0</td>\n",
       "      <td>1</td>\n",
       "      <td>1</td>\n",
       "      <td>0</td>\n",
       "    </tr>\n",
       "    <tr>\n",
       "      <th>1</th>\n",
       "      <td>1</td>\n",
       "      <td>-0.028205</td>\n",
       "      <td>1</td>\n",
       "      <td>0</td>\n",
       "      <td>0</td>\n",
       "      <td>1</td>\n",
       "      <td>0</td>\n",
       "      <td>0</td>\n",
       "      <td>0</td>\n",
       "      <td>0</td>\n",
       "      <td>...</td>\n",
       "      <td>1</td>\n",
       "      <td>0</td>\n",
       "      <td>0</td>\n",
       "      <td>1</td>\n",
       "      <td>0</td>\n",
       "      <td>1</td>\n",
       "      <td>0</td>\n",
       "      <td>0</td>\n",
       "      <td>1</td>\n",
       "      <td>0</td>\n",
       "    </tr>\n",
       "    <tr>\n",
       "      <th>2</th>\n",
       "      <td>2</td>\n",
       "      <td>-0.028205</td>\n",
       "      <td>2</td>\n",
       "      <td>0</td>\n",
       "      <td>0</td>\n",
       "      <td>1</td>\n",
       "      <td>0</td>\n",
       "      <td>0</td>\n",
       "      <td>0</td>\n",
       "      <td>0</td>\n",
       "      <td>...</td>\n",
       "      <td>0</td>\n",
       "      <td>1</td>\n",
       "      <td>0</td>\n",
       "      <td>0</td>\n",
       "      <td>1</td>\n",
       "      <td>0</td>\n",
       "      <td>1</td>\n",
       "      <td>0</td>\n",
       "      <td>1</td>\n",
       "      <td>0</td>\n",
       "    </tr>\n",
       "    <tr>\n",
       "      <th>3</th>\n",
       "      <td>3</td>\n",
       "      <td>-0.028205</td>\n",
       "      <td>3</td>\n",
       "      <td>0</td>\n",
       "      <td>0</td>\n",
       "      <td>1</td>\n",
       "      <td>0</td>\n",
       "      <td>0</td>\n",
       "      <td>0</td>\n",
       "      <td>0</td>\n",
       "      <td>...</td>\n",
       "      <td>0</td>\n",
       "      <td>0</td>\n",
       "      <td>1</td>\n",
       "      <td>0</td>\n",
       "      <td>0</td>\n",
       "      <td>0</td>\n",
       "      <td>1</td>\n",
       "      <td>0</td>\n",
       "      <td>0</td>\n",
       "      <td>1</td>\n",
       "    </tr>\n",
       "    <tr>\n",
       "      <th>4</th>\n",
       "      <td>4</td>\n",
       "      <td>-0.028205</td>\n",
       "      <td>4</td>\n",
       "      <td>0</td>\n",
       "      <td>0</td>\n",
       "      <td>1</td>\n",
       "      <td>0</td>\n",
       "      <td>0</td>\n",
       "      <td>0</td>\n",
       "      <td>0</td>\n",
       "      <td>...</td>\n",
       "      <td>0</td>\n",
       "      <td>1</td>\n",
       "      <td>0</td>\n",
       "      <td>0</td>\n",
       "      <td>1</td>\n",
       "      <td>1</td>\n",
       "      <td>0</td>\n",
       "      <td>0</td>\n",
       "      <td>1</td>\n",
       "      <td>0</td>\n",
       "    </tr>\n",
       "  </tbody>\n",
       "</table>\n",
       "<p>5 rows × 163 columns</p>\n",
       "</div>"
      ],
      "text/plain": [
       "   index       Age  index  Gender_Female  Gender_Female   Gender_Male  \\\n",
       "0      0 -0.028205      0              1               0            0   \n",
       "1      1 -0.028205      1              0               0            1   \n",
       "2      2 -0.028205      2              0               0            1   \n",
       "3      3 -0.028205      3              0               0            1   \n",
       "4      4 -0.028205      4              0               0            1   \n",
       "\n",
       "   Gender_Male   Gender_Transgender  Country_Australia  Country_Austria  ...  \\\n",
       "0             0                   0                  0                0  ...   \n",
       "1             0                   0                  0                0  ...   \n",
       "2             0                   0                  0                0  ...   \n",
       "3             0                   0                  0                0  ...   \n",
       "4             0                   0                  0                0  ...   \n",
       "\n",
       "   mental_health_interview_No  mental_health_interview_Yes  \\\n",
       "0                           1                            0   \n",
       "1                           1                            0   \n",
       "2                           0                            1   \n",
       "3                           0                            0   \n",
       "4                           0                            1   \n",
       "\n",
       "   phys_health_interview_Maybe  phys_health_interview_No  \\\n",
       "0                            1                         0   \n",
       "1                            0                         1   \n",
       "2                            0                         0   \n",
       "3                            1                         0   \n",
       "4                            0                         0   \n",
       "\n",
       "   phys_health_interview_Yes  mental_vs_physical_Don't know  \\\n",
       "0                          0                              0   \n",
       "1                          0                              1   \n",
       "2                          1                              0   \n",
       "3                          0                              0   \n",
       "4                          1                              1   \n",
       "\n",
       "   mental_vs_physical_No  mental_vs_physical_Yes  obs_consequence_No  \\\n",
       "0                      0                       1                   1   \n",
       "1                      0                       0                   1   \n",
       "2                      1                       0                   1   \n",
       "3                      1                       0                   0   \n",
       "4                      0                       0                   1   \n",
       "\n",
       "   obs_consequence_Yes  \n",
       "0                    0  \n",
       "1                    0  \n",
       "2                    0  \n",
       "3                    1  \n",
       "4                    0  \n",
       "\n",
       "[5 rows x 163 columns]"
      ]
     },
     "execution_count": 41,
     "metadata": {},
     "output_type": "execute_result"
    }
   ],
   "source": [
    "X.head()"
   ]
  },
  {
   "cell_type": "code",
   "execution_count": 42,
   "id": "51f1c614",
   "metadata": {},
   "outputs": [],
   "source": [
    "y=LabelEncoder().fit_transform(y)"
   ]
  },
  {
   "cell_type": "markdown",
   "id": "9f62b079",
   "metadata": {},
   "source": [
    "### Logistic Regression"
   ]
  },
  {
   "cell_type": "code",
   "execution_count": 43,
   "id": "28fb86de",
   "metadata": {},
   "outputs": [],
   "source": [
    "from sklearn.model_selection import cross_val_score\n",
    "from sklearn.linear_model import LogisticRegression\n",
    "from sklearn.metrics import ConfusionMatrixDisplay,RocCurveDisplay,classification_report"
   ]
  },
  {
   "cell_type": "code",
   "execution_count": 44,
   "id": "f152de15",
   "metadata": {},
   "outputs": [],
   "source": [
    "logit=LogisticRegression(max_iter=3000)"
   ]
  },
  {
   "cell_type": "code",
   "execution_count": 45,
   "id": "4004e36c",
   "metadata": {},
   "outputs": [],
   "source": [
    "logitmodel=logit.fit(X,y)"
   ]
  },
  {
   "cell_type": "code",
   "execution_count": 46,
   "id": "c91f9d82",
   "metadata": {},
   "outputs": [
    {
     "data": {
      "text/plain": [
       "0.7948473282442748"
      ]
     },
     "execution_count": 46,
     "metadata": {},
     "output_type": "execute_result"
    }
   ],
   "source": [
    "logitmodel.score(X,y)"
   ]
  },
  {
   "cell_type": "code",
   "execution_count": 47,
   "id": "582a1778",
   "metadata": {},
   "outputs": [],
   "source": [
    "logitpredict=logitmodel.predict(X)"
   ]
  },
  {
   "cell_type": "code",
   "execution_count": 48,
   "id": "fcdd9d69",
   "metadata": {},
   "outputs": [
    {
     "data": {
      "text/plain": [
       "<sklearn.metrics._plot.confusion_matrix.ConfusionMatrixDisplay at 0x1ba8f873c70>"
      ]
     },
     "execution_count": 48,
     "metadata": {},
     "output_type": "execute_result"
    },
    {
     "data": {
      "image/png": "[encoded data removed]",
      "text/plain": [
       "<Figure size 640x480 with 2 Axes>"
      ]
     },
     "metadata": {},
     "output_type": "display_data"
    }
   ],
   "source": [
    "ConfusionMatrixDisplay.from_predictions(y,logitpredict)"
   ]
  },
  {
   "cell_type": "code",
   "execution_count": 49,
   "id": "dc0f431b",
   "metadata": {},
   "outputs": [
    {
     "name": "stdout",
     "output_type": "stream",
     "text": [
      "              precision    recall  f1-score   support\n",
      "\n",
      "           0       0.79      0.82      0.80       536\n",
      "           1       0.80      0.77      0.79       512\n",
      "\n",
      "    accuracy                           0.79      1048\n",
      "   macro avg       0.80      0.79      0.79      1048\n",
      "weighted avg       0.80      0.79      0.79      1048\n",
      "\n"
     ]
    }
   ],
   "source": [
    "print(classification_report(y,logitpredict))"
   ]
  },
  {
   "cell_type": "code",
   "execution_count": 50,
   "id": "92d492e7",
   "metadata": {},
   "outputs": [
    {
     "data": {
      "text/plain": [
       "array([0.73333333, 0.75238095, 0.77142857, 0.70334928, 0.71770335])"
      ]
     },
     "execution_count": 50,
     "metadata": {},
     "output_type": "execute_result"
    }
   ],
   "source": [
    "cross_val_score(logit,X,y)"
   ]
  },
  {
   "cell_type": "code",
   "execution_count": 51,
   "id": "13048408",
   "metadata": {},
   "outputs": [
    {
     "data": {
      "text/plain": [
       "0.732781954"
      ]
     },
     "execution_count": 51,
     "metadata": {},
     "output_type": "execute_result"
    }
   ],
   "source": [
    "np.mean([0.73333333, 0.74285714, 0.76666667, 0.6937799 , 0.72727273])"
   ]
  },
  {
   "cell_type": "code",
   "execution_count": 52,
   "id": "18c058cf",
   "metadata": {},
   "outputs": [],
   "source": [
    "logittestpredict=logitmodel.predict(test_df)"
   ]
  },
  {
   "cell_type": "code",
   "execution_count": 53,
   "id": "1a43a2bb",
   "metadata": {},
   "outputs": [],
   "source": [
    "pred=pd.DataFrame(logitpredict,columns=['predicted'])"
   ]
  },
  {
   "cell_type": "code",
   "execution_count": 54,
   "id": "4aefb55b",
   "metadata": {},
   "outputs": [],
   "source": [
    "predicted=[]\n",
    "for row in pred.predicted:\n",
    "    if row==0:\n",
    "        predicted.append('No')\n",
    "    else:\n",
    "        predicted.append('Yes')\n",
    "pred['test_pred']=predicted"
   ]
  },
  {
   "cell_type": "code",
   "execution_count": 55,
   "id": "a71ddcad",
   "metadata": {},
   "outputs": [
    {
     "data": {
      "text/html": [
       "<div>\n",
       "<style scoped>\n",
       "    .dataframe tbody tr th:only-of-type {\n",
       "        vertical-align: middle;\n",
       "    }\n",
       "\n",
       "    .dataframe tbody tr th {\n",
       "        vertical-align: top;\n",
       "    }\n",
       "\n",
       "    .dataframe thead th {\n",
       "        text-align: right;\n",
       "    }\n",
       "</style>\n",
       "<table border=\"1\" class=\"dataframe\">\n",
       "  <thead>\n",
       "    <tr style=\"text-align: right;\">\n",
       "      <th></th>\n",
       "      <th>predicted</th>\n",
       "      <th>test_pred</th>\n",
       "    </tr>\n",
       "  </thead>\n",
       "  <tbody>\n",
       "    <tr>\n",
       "      <th>0</th>\n",
       "      <td>1</td>\n",
       "      <td>Yes</td>\n",
       "    </tr>\n",
       "    <tr>\n",
       "      <th>1</th>\n",
       "      <td>0</td>\n",
       "      <td>No</td>\n",
       "    </tr>\n",
       "    <tr>\n",
       "      <th>2</th>\n",
       "      <td>1</td>\n",
       "      <td>Yes</td>\n",
       "    </tr>\n",
       "    <tr>\n",
       "      <th>3</th>\n",
       "      <td>1</td>\n",
       "      <td>Yes</td>\n",
       "    </tr>\n",
       "    <tr>\n",
       "      <th>4</th>\n",
       "      <td>0</td>\n",
       "      <td>No</td>\n",
       "    </tr>\n",
       "  </tbody>\n",
       "</table>\n",
       "</div>"
      ],
      "text/plain": [
       "   predicted test_pred\n",
       "0          1       Yes\n",
       "1          0        No\n",
       "2          1       Yes\n",
       "3          1       Yes\n",
       "4          0        No"
      ]
     },
     "execution_count": 55,
     "metadata": {},
     "output_type": "execute_result"
    }
   ],
   "source": [
    "pred.head()"
   ]
  },
  {
   "cell_type": "code",
   "execution_count": 56,
   "id": "df861fc8",
   "metadata": {},
   "outputs": [],
   "source": [
    "pred.to_csv(\"conditionlogit.csv\")"
   ]
  },
  {
   "cell_type": "markdown",
   "id": "02e96791",
   "metadata": {},
   "source": [
    "### DecisionTree"
   ]
  },
  {
   "cell_type": "code",
   "execution_count": 57,
   "id": "e3bc7edd",
   "metadata": {},
   "outputs": [],
   "source": [
    "from sklearn.tree import DecisionTreeClassifier"
   ]
  },
  {
   "cell_type": "code",
   "execution_count": 58,
   "id": "242e89a6",
   "metadata": {},
   "outputs": [],
   "source": [
    "tree=DecisionTreeClassifier(max_depth=8)"
   ]
  },
  {
   "cell_type": "code",
   "execution_count": 59,
   "id": "9b0251f5",
   "metadata": {},
   "outputs": [],
   "source": [
    "treemodel=tree.fit(X,y)"
   ]
  },
  {
   "cell_type": "code",
   "execution_count": 60,
   "id": "9e9ade99",
   "metadata": {},
   "outputs": [
    {
     "data": {
      "text/plain": [
       "0.8778625954198473"
      ]
     },
     "execution_count": 60,
     "metadata": {},
     "output_type": "execute_result"
    }
   ],
   "source": [
    "treemodel.score(X,y)"
   ]
  },
  {
   "cell_type": "code",
   "execution_count": 61,
   "id": "f57d2495",
   "metadata": {},
   "outputs": [],
   "source": [
    "treepredict=treemodel.predict(X)"
   ]
  },
  {
   "cell_type": "code",
   "execution_count": 62,
   "id": "1cfc4bc4",
   "metadata": {},
   "outputs": [
    {
     "data": {
      "text/plain": [
       "<sklearn.metrics._plot.confusion_matrix.ConfusionMatrixDisplay at 0x1ba8fce9970>"
      ]
     },
     "execution_count": 62,
     "metadata": {},
     "output_type": "execute_result"
    },
    {
     "data": {
      "image/png": "[encoded data removed]",
      "text/plain": [
       "<Figure size 640x480 with 2 Axes>"
      ]
     },
     "metadata": {},
     "output_type": "display_data"
    }
   ],
   "source": [
    "ConfusionMatrixDisplay.from_predictions(y,treepredict)"
   ]
  },
  {
   "cell_type": "code",
   "execution_count": 63,
   "id": "3c8c62a4",
   "metadata": {},
   "outputs": [
    {
     "name": "stdout",
     "output_type": "stream",
     "text": [
      "              precision    recall  f1-score   support\n",
      "\n",
      "           0       0.89      0.87      0.88       536\n",
      "           1       0.86      0.89      0.88       512\n",
      "\n",
      "    accuracy                           0.88      1048\n",
      "   macro avg       0.88      0.88      0.88      1048\n",
      "weighted avg       0.88      0.88      0.88      1048\n",
      "\n"
     ]
    }
   ],
   "source": [
    "print(classification_report(y,treepredict))"
   ]
  },
  {
   "cell_type": "code",
   "execution_count": 64,
   "id": "3225515f",
   "metadata": {},
   "outputs": [
    {
     "data": {
      "text/plain": [
       "array([0.63809524, 0.75238095, 0.73809524, 0.67464115, 0.56937799])"
      ]
     },
     "execution_count": 64,
     "metadata": {},
     "output_type": "execute_result"
    }
   ],
   "source": [
    "cross_val_score(tree,X,y)"
   ]
  },
  {
   "cell_type": "code",
   "execution_count": 65,
   "id": "50fa33cd",
   "metadata": {},
   "outputs": [
    {
     "data": {
      "text/plain": [
       "0.6726361359999999"
      ]
     },
     "execution_count": 65,
     "metadata": {},
     "output_type": "execute_result"
    }
   ],
   "source": [
    "np.mean([0.61428571, 0.74761905, 0.73333333, 0.67942584, 0.58851675])"
   ]
  },
  {
   "cell_type": "code",
   "execution_count": 66,
   "id": "420cec60",
   "metadata": {},
   "outputs": [],
   "source": [
    "treetestpredict=treemodel.predict(test_df)"
   ]
  },
  {
   "cell_type": "code",
   "execution_count": 67,
   "id": "975685ef",
   "metadata": {},
   "outputs": [],
   "source": [
    "predicttree=pd.DataFrame(treetestpredict,columns=['predicted'])"
   ]
  },
  {
   "cell_type": "code",
   "execution_count": 68,
   "id": "15626383",
   "metadata": {},
   "outputs": [],
   "source": [
    "predicted=[]\n",
    "for row in predicttree.predicted:\n",
    "    if row==0:\n",
    "        predicted.append('No')\n",
    "    else:\n",
    "        predicted.append('Yes')\n",
    "predicttree['test_pred']=predicted"
   ]
  },
  {
   "cell_type": "code",
   "execution_count": 69,
   "id": "4ee0cb6a",
   "metadata": {},
   "outputs": [
    {
     "data": {
      "text/html": [
       "<div>\n",
       "<style scoped>\n",
       "    .dataframe tbody tr th:only-of-type {\n",
       "        vertical-align: middle;\n",
       "    }\n",
       "\n",
       "    .dataframe tbody tr th {\n",
       "        vertical-align: top;\n",
       "    }\n",
       "\n",
       "    .dataframe thead th {\n",
       "        text-align: right;\n",
       "    }\n",
       "</style>\n",
       "<table border=\"1\" class=\"dataframe\">\n",
       "  <thead>\n",
       "    <tr style=\"text-align: right;\">\n",
       "      <th></th>\n",
       "      <th>predicted</th>\n",
       "      <th>test_pred</th>\n",
       "    </tr>\n",
       "  </thead>\n",
       "  <tbody>\n",
       "    <tr>\n",
       "      <th>0</th>\n",
       "      <td>1</td>\n",
       "      <td>Yes</td>\n",
       "    </tr>\n",
       "    <tr>\n",
       "      <th>1</th>\n",
       "      <td>1</td>\n",
       "      <td>Yes</td>\n",
       "    </tr>\n",
       "    <tr>\n",
       "      <th>2</th>\n",
       "      <td>1</td>\n",
       "      <td>Yes</td>\n",
       "    </tr>\n",
       "    <tr>\n",
       "      <th>3</th>\n",
       "      <td>1</td>\n",
       "      <td>Yes</td>\n",
       "    </tr>\n",
       "    <tr>\n",
       "      <th>4</th>\n",
       "      <td>0</td>\n",
       "      <td>No</td>\n",
       "    </tr>\n",
       "  </tbody>\n",
       "</table>\n",
       "</div>"
      ],
      "text/plain": [
       "   predicted test_pred\n",
       "0          1       Yes\n",
       "1          1       Yes\n",
       "2          1       Yes\n",
       "3          1       Yes\n",
       "4          0        No"
      ]
     },
     "execution_count": 69,
     "metadata": {},
     "output_type": "execute_result"
    }
   ],
   "source": [
    "predicttree.head()"
   ]
  },
  {
   "cell_type": "code",
   "execution_count": 70,
   "id": "64099eb8",
   "metadata": {},
   "outputs": [],
   "source": [
    "predicttree.to_csv(\"conditiontree.csv\")"
   ]
  },
  {
   "cell_type": "markdown",
   "id": "177f2b1a",
   "metadata": {},
   "source": [
    "### ENSEMBLE METHODS\n",
    "    #RandomForest\n",
    "    #GradientBoosting"
   ]
  },
  {
   "cell_type": "code",
   "execution_count": 71,
   "id": "db4776b3",
   "metadata": {},
   "outputs": [],
   "source": [
    "from sklearn.ensemble import RandomForestClassifier,GradientBoostingClassifier"
   ]
  },
  {
   "cell_type": "code",
   "execution_count": 72,
   "id": "219383fd",
   "metadata": {},
   "outputs": [],
   "source": [
    "RF=RandomForestClassifier(n_estimators=200)"
   ]
  },
  {
   "cell_type": "code",
   "execution_count": 73,
   "id": "20270ee6",
   "metadata": {},
   "outputs": [],
   "source": [
    "RFmodel=RF.fit(X,y)"
   ]
  },
  {
   "cell_type": "code",
   "execution_count": 74,
   "id": "22d5162b",
   "metadata": {},
   "outputs": [
    {
     "data": {
      "text/plain": [
       "1.0"
      ]
     },
     "execution_count": 74,
     "metadata": {},
     "output_type": "execute_result"
    }
   ],
   "source": [
    "RFmodel.score(X,y)"
   ]
  },
  {
   "cell_type": "code",
   "execution_count": 75,
   "id": "c35a6c0e",
   "metadata": {},
   "outputs": [],
   "source": [
    "RFpredict=RFmodel.predict(X)"
   ]
  },
  {
   "cell_type": "code",
   "execution_count": 76,
   "id": "7e1f1b76",
   "metadata": {},
   "outputs": [
    {
     "data": {
      "text/plain": [
       "<sklearn.metrics._plot.confusion_matrix.ConfusionMatrixDisplay at 0x1ba912b1d00>"
      ]
     },
     "execution_count": 76,
     "metadata": {},
     "output_type": "execute_result"
    },
    {
     "data": {
      "image/png": "[encoded data removed]",
      "text/plain": [
       "<Figure size 640x480 with 2 Axes>"
      ]
     },
     "metadata": {},
     "output_type": "display_data"
    }
   ],
   "source": [
    "ConfusionMatrixDisplay.from_predictions(y,RFpredict)"
   ]
  },
  {
   "cell_type": "code",
   "execution_count": 77,
   "id": "8eba55e9",
   "metadata": {},
   "outputs": [
    {
     "name": "stdout",
     "output_type": "stream",
     "text": [
      "              precision    recall  f1-score   support\n",
      "\n",
      "           0       1.00      1.00      1.00       536\n",
      "           1       1.00      1.00      1.00       512\n",
      "\n",
      "    accuracy                           1.00      1048\n",
      "   macro avg       1.00      1.00      1.00      1048\n",
      "weighted avg       1.00      1.00      1.00      1048\n",
      "\n"
     ]
    }
   ],
   "source": [
    "print(classification_report(y,RFpredict))"
   ]
  },
  {
   "cell_type": "code",
   "execution_count": 78,
   "id": "8d58d2f2",
   "metadata": {},
   "outputs": [],
   "source": [
    "gbm=GradientBoostingClassifier(n_estimators=200)"
   ]
  },
  {
   "cell_type": "code",
   "execution_count": 79,
   "id": "d17ed96f",
   "metadata": {},
   "outputs": [],
   "source": [
    "gbmmodel=gbm.fit(X,y)"
   ]
  },
  {
   "cell_type": "code",
   "execution_count": 80,
   "id": "80509069",
   "metadata": {},
   "outputs": [
    {
     "data": {
      "text/plain": [
       "0.8769083969465649"
      ]
     },
     "execution_count": 80,
     "metadata": {},
     "output_type": "execute_result"
    }
   ],
   "source": [
    "gbmmodel.score(X,y)"
   ]
  },
  {
   "cell_type": "code",
   "execution_count": 81,
   "id": "cf3addee",
   "metadata": {},
   "outputs": [],
   "source": [
    "gbmpredict=gbmmodel.predict(X)"
   ]
  },
  {
   "cell_type": "code",
   "execution_count": 82,
   "id": "95d4bec8",
   "metadata": {},
   "outputs": [
    {
     "data": {
      "text/plain": [
       "<sklearn.metrics._plot.confusion_matrix.ConfusionMatrixDisplay at 0x1ba8b06a040>"
      ]
     },
     "execution_count": 82,
     "metadata": {},
     "output_type": "execute_result"
    },
    {
     "data": {
      "image/png": "[encoded data removed]",
      "text/plain": [
       "<Figure size 640x480 with 2 Axes>"
      ]
     },
     "metadata": {},
     "output_type": "display_data"
    }
   ],
   "source": [
    "ConfusionMatrixDisplay.from_predictions(y,gbmpredict)"
   ]
  },
  {
   "cell_type": "code",
   "execution_count": 83,
   "id": "560220a5",
   "metadata": {},
   "outputs": [
    {
     "data": {
      "text/plain": [
       "array([0.5047619 , 0.67619048, 0.75714286, 0.6937799 , 0.65550239])"
      ]
     },
     "execution_count": 83,
     "metadata": {},
     "output_type": "execute_result"
    }
   ],
   "source": [
    "cross_val_score(gbm,X,y)"
   ]
  },
  {
   "cell_type": "code",
   "execution_count": 84,
   "id": "b7bc53e1",
   "metadata": {},
   "outputs": [
    {
     "data": {
      "text/plain": [
       "0.6746593759999999"
      ]
     },
     "execution_count": 84,
     "metadata": {},
     "output_type": "execute_result"
    }
   ],
   "source": [
    "np.mean([0.51428571, 0.71904762, 0.74761905, 0.70334928, 0.68899522])"
   ]
  },
  {
   "cell_type": "markdown",
   "id": "8a7933e5",
   "metadata": {},
   "source": [
    "### XGBoost"
   ]
  },
  {
   "cell_type": "code",
   "execution_count": 85,
   "id": "18da8d52",
   "metadata": {},
   "outputs": [],
   "source": [
    "from xgboost import XGBClassifier"
   ]
  },
  {
   "cell_type": "code",
   "execution_count": 86,
   "id": "55326a19",
   "metadata": {},
   "outputs": [],
   "source": [
    "xgb=XGBClassifier(n_estimators=100,learning_rate=0.01)"
   ]
  },
  {
   "cell_type": "code",
   "execution_count": 87,
   "id": "413cfe45",
   "metadata": {},
   "outputs": [],
   "source": [
    "X=X.drop('index',axis=1)"
   ]
  },
  {
   "cell_type": "code",
   "execution_count": 88,
   "id": "d9384399",
   "metadata": {},
   "outputs": [],
   "source": [
    "xgbmodel=xgb.fit(X,y)"
   ]
  },
  {
   "cell_type": "code",
   "execution_count": 89,
   "id": "dc815b18",
   "metadata": {},
   "outputs": [
    {
     "data": {
      "text/plain": [
       "0.8358778625954199"
      ]
     },
     "execution_count": 89,
     "metadata": {},
     "output_type": "execute_result"
    }
   ],
   "source": [
    "xgbmodel.score(X,y)"
   ]
  },
  {
   "cell_type": "code",
   "execution_count": 90,
   "id": "7e7b4057",
   "metadata": {},
   "outputs": [
    {
     "data": {
      "text/plain": [
       "array([0.74285714, 0.71904762, 0.73333333, 0.74162679, 0.74162679])"
      ]
     },
     "execution_count": 90,
     "metadata": {},
     "output_type": "execute_result"
    }
   ],
   "source": [
    "cross_val_score(xgb,X,y)"
   ]
  },
  {
   "cell_type": "code",
   "execution_count": 91,
   "id": "a5d08b8b",
   "metadata": {},
   "outputs": [
    {
     "data": {
      "text/plain": [
       "0.735698334"
      ]
     },
     "execution_count": 91,
     "metadata": {},
     "output_type": "execute_result"
    }
   ],
   "source": [
    "np.mean([0.74285714, 0.71904762, 0.73333333, 0.74162679, 0.74162679])"
   ]
  },
  {
   "cell_type": "markdown",
   "id": "4cbb8a72",
   "metadata": {},
   "source": [
    "### Cat Boost"
   ]
  },
  {
   "cell_type": "code",
   "execution_count": 92,
   "id": "ed8c91df",
   "metadata": {},
   "outputs": [],
   "source": [
    "from catboost import CatBoostClassifier"
   ]
  },
  {
   "cell_type": "code",
   "execution_count": 93,
   "id": "722a65c5",
   "metadata": {},
   "outputs": [],
   "source": [
    "cat=CatBoostClassifier(iterations=200, learning_rate=0.1, depth=5)"
   ]
  },
  {
   "cell_type": "code",
   "execution_count": 94,
   "id": "3bb9f7eb",
   "metadata": {},
   "outputs": [
    {
     "name": "stdout",
     "output_type": "stream",
     "text": [
      "0:\tlearn: 0.6690405\ttotal: 143ms\tremaining: 28.5s\n",
      "1:\tlearn: 0.6334792\ttotal: 146ms\tremaining: 14.4s\n",
      "2:\tlearn: 0.6084956\ttotal: 148ms\tremaining: 9.72s\n",
      "3:\tlearn: 0.5876806\ttotal: 150ms\tremaining: 7.36s\n",
      "4:\tlearn: 0.5718596\ttotal: 153ms\tremaining: 5.95s\n",
      "5:\tlearn: 0.5645327\ttotal: 155ms\tremaining: 5s\n",
      "6:\tlearn: 0.5546703\ttotal: 157ms\tremaining: 4.33s\n",
      "7:\tlearn: 0.5445064\ttotal: 159ms\tremaining: 3.82s\n",
      "8:\tlearn: 0.5375398\ttotal: 162ms\tremaining: 3.43s\n",
      "9:\tlearn: 0.5308030\ttotal: 164ms\tremaining: 3.11s\n",
      "10:\tlearn: 0.5243255\ttotal: 166ms\tremaining: 2.85s\n",
      "11:\tlearn: 0.5172941\ttotal: 168ms\tremaining: 2.63s\n",
      "12:\tlearn: 0.5126251\ttotal: 170ms\tremaining: 2.45s\n",
      "13:\tlearn: 0.5078531\ttotal: 173ms\tremaining: 2.29s\n",
      "14:\tlearn: 0.5045676\ttotal: 175ms\tremaining: 2.15s\n",
      "15:\tlearn: 0.4993369\ttotal: 177ms\tremaining: 2.03s\n",
      "16:\tlearn: 0.4955349\ttotal: 179ms\tremaining: 1.92s\n",
      "17:\tlearn: 0.4921743\ttotal: 181ms\tremaining: 1.83s\n",
      "18:\tlearn: 0.4891346\ttotal: 183ms\tremaining: 1.74s\n",
      "19:\tlearn: 0.4832990\ttotal: 185ms\tremaining: 1.66s\n",
      "20:\tlearn: 0.4811299\ttotal: 187ms\tremaining: 1.59s\n",
      "21:\tlearn: 0.4793968\ttotal: 189ms\tremaining: 1.53s\n",
      "22:\tlearn: 0.4764974\ttotal: 191ms\tremaining: 1.47s\n",
      "23:\tlearn: 0.4744790\ttotal: 193ms\tremaining: 1.41s\n",
      "24:\tlearn: 0.4727396\ttotal: 195ms\tremaining: 1.36s\n",
      "25:\tlearn: 0.4697630\ttotal: 197ms\tremaining: 1.32s\n",
      "26:\tlearn: 0.4674403\ttotal: 199ms\tremaining: 1.27s\n",
      "27:\tlearn: 0.4661324\ttotal: 201ms\tremaining: 1.24s\n",
      "28:\tlearn: 0.4643221\ttotal: 203ms\tremaining: 1.2s\n",
      "29:\tlearn: 0.4614603\ttotal: 205ms\tremaining: 1.16s\n",
      "30:\tlearn: 0.4584159\ttotal: 207ms\tremaining: 1.13s\n",
      "31:\tlearn: 0.4568883\ttotal: 209ms\tremaining: 1.1s\n",
      "32:\tlearn: 0.4537927\ttotal: 211ms\tremaining: 1.07s\n",
      "33:\tlearn: 0.4523794\ttotal: 213ms\tremaining: 1.04s\n",
      "34:\tlearn: 0.4483839\ttotal: 215ms\tremaining: 1.01s\n",
      "35:\tlearn: 0.4464328\ttotal: 217ms\tremaining: 991ms\n",
      "36:\tlearn: 0.4452067\ttotal: 220ms\tremaining: 967ms\n",
      "37:\tlearn: 0.4444595\ttotal: 222ms\tremaining: 945ms\n",
      "38:\tlearn: 0.4431850\ttotal: 224ms\tremaining: 923ms\n",
      "39:\tlearn: 0.4415408\ttotal: 226ms\tremaining: 903ms\n",
      "40:\tlearn: 0.4400685\ttotal: 228ms\tremaining: 882ms\n",
      "41:\tlearn: 0.4379826\ttotal: 230ms\tremaining: 864ms\n",
      "42:\tlearn: 0.4364582\ttotal: 232ms\tremaining: 846ms\n",
      "43:\tlearn: 0.4346443\ttotal: 234ms\tremaining: 829ms\n",
      "44:\tlearn: 0.4325323\ttotal: 236ms\tremaining: 813ms\n",
      "45:\tlearn: 0.4312858\ttotal: 238ms\tremaining: 797ms\n",
      "46:\tlearn: 0.4277686\ttotal: 240ms\tremaining: 782ms\n",
      "47:\tlearn: 0.4269442\ttotal: 242ms\tremaining: 767ms\n",
      "48:\tlearn: 0.4254101\ttotal: 244ms\tremaining: 753ms\n",
      "49:\tlearn: 0.4235202\ttotal: 246ms\tremaining: 739ms\n",
      "50:\tlearn: 0.4222410\ttotal: 248ms\tremaining: 725ms\n",
      "51:\tlearn: 0.4203521\ttotal: 250ms\tremaining: 713ms\n",
      "52:\tlearn: 0.4179159\ttotal: 252ms\tremaining: 700ms\n",
      "53:\tlearn: 0.4160959\ttotal: 255ms\tremaining: 688ms\n",
      "54:\tlearn: 0.4140257\ttotal: 257ms\tremaining: 678ms\n",
      "55:\tlearn: 0.4122381\ttotal: 259ms\tremaining: 666ms\n",
      "56:\tlearn: 0.4110793\ttotal: 261ms\tremaining: 655ms\n",
      "57:\tlearn: 0.4104267\ttotal: 263ms\tremaining: 645ms\n",
      "58:\tlearn: 0.4085820\ttotal: 265ms\tremaining: 634ms\n",
      "59:\tlearn: 0.4081723\ttotal: 267ms\tremaining: 623ms\n",
      "60:\tlearn: 0.4060642\ttotal: 269ms\tremaining: 614ms\n",
      "61:\tlearn: 0.4047299\ttotal: 271ms\tremaining: 604ms\n",
      "62:\tlearn: 0.4025085\ttotal: 273ms\tremaining: 594ms\n",
      "63:\tlearn: 0.4013385\ttotal: 275ms\tremaining: 585ms\n",
      "64:\tlearn: 0.3996283\ttotal: 278ms\tremaining: 576ms\n",
      "65:\tlearn: 0.3971575\ttotal: 280ms\tremaining: 568ms\n",
      "66:\tlearn: 0.3954444\ttotal: 282ms\tremaining: 560ms\n",
      "67:\tlearn: 0.3945312\ttotal: 284ms\tremaining: 551ms\n",
      "68:\tlearn: 0.3931563\ttotal: 286ms\tremaining: 543ms\n",
      "69:\tlearn: 0.3907903\ttotal: 288ms\tremaining: 535ms\n",
      "70:\tlearn: 0.3892545\ttotal: 291ms\tremaining: 528ms\n",
      "71:\tlearn: 0.3872933\ttotal: 293ms\tremaining: 521ms\n",
      "72:\tlearn: 0.3856745\ttotal: 295ms\tremaining: 514ms\n",
      "73:\tlearn: 0.3830838\ttotal: 298ms\tremaining: 507ms\n",
      "74:\tlearn: 0.3808703\ttotal: 300ms\tremaining: 500ms\n",
      "75:\tlearn: 0.3790923\ttotal: 302ms\tremaining: 493ms\n",
      "76:\tlearn: 0.3769543\ttotal: 305ms\tremaining: 487ms\n",
      "77:\tlearn: 0.3759233\ttotal: 307ms\tremaining: 480ms\n",
      "78:\tlearn: 0.3735760\ttotal: 309ms\tremaining: 473ms\n",
      "79:\tlearn: 0.3724890\ttotal: 311ms\tremaining: 467ms\n",
      "80:\tlearn: 0.3709426\ttotal: 313ms\tremaining: 460ms\n",
      "81:\tlearn: 0.3695199\ttotal: 315ms\tremaining: 454ms\n",
      "82:\tlearn: 0.3690776\ttotal: 317ms\tremaining: 447ms\n",
      "83:\tlearn: 0.3682775\ttotal: 320ms\tremaining: 441ms\n",
      "84:\tlearn: 0.3664943\ttotal: 321ms\tremaining: 435ms\n",
      "85:\tlearn: 0.3660327\ttotal: 323ms\tremaining: 429ms\n",
      "86:\tlearn: 0.3648978\ttotal: 325ms\tremaining: 422ms\n",
      "87:\tlearn: 0.3642523\ttotal: 327ms\tremaining: 416ms\n",
      "88:\tlearn: 0.3621589\ttotal: 329ms\tremaining: 410ms\n",
      "89:\tlearn: 0.3614423\ttotal: 331ms\tremaining: 404ms\n",
      "90:\tlearn: 0.3611495\ttotal: 332ms\tremaining: 398ms\n",
      "91:\tlearn: 0.3590124\ttotal: 334ms\tremaining: 392ms\n",
      "92:\tlearn: 0.3583720\ttotal: 337ms\tremaining: 388ms\n",
      "93:\tlearn: 0.3576737\ttotal: 339ms\tremaining: 382ms\n",
      "94:\tlearn: 0.3565393\ttotal: 341ms\tremaining: 377ms\n",
      "95:\tlearn: 0.3555255\ttotal: 343ms\tremaining: 372ms\n",
      "96:\tlearn: 0.3552251\ttotal: 346ms\tremaining: 367ms\n",
      "97:\tlearn: 0.3547037\ttotal: 348ms\tremaining: 362ms\n",
      "98:\tlearn: 0.3527792\ttotal: 350ms\tremaining: 357ms\n",
      "99:\tlearn: 0.3512139\ttotal: 352ms\tremaining: 352ms\n",
      "100:\tlearn: 0.3489339\ttotal: 354ms\tremaining: 347ms\n",
      "101:\tlearn: 0.3487095\ttotal: 356ms\tremaining: 342ms\n",
      "102:\tlearn: 0.3470991\ttotal: 358ms\tremaining: 337ms\n",
      "103:\tlearn: 0.3464172\ttotal: 360ms\tremaining: 332ms\n",
      "104:\tlearn: 0.3461786\ttotal: 361ms\tremaining: 327ms\n",
      "105:\tlearn: 0.3446362\ttotal: 363ms\tremaining: 322ms\n",
      "106:\tlearn: 0.3441427\ttotal: 365ms\tremaining: 318ms\n",
      "107:\tlearn: 0.3417116\ttotal: 367ms\tremaining: 313ms\n",
      "108:\tlearn: 0.3410032\ttotal: 369ms\tremaining: 308ms\n",
      "109:\tlearn: 0.3408214\ttotal: 371ms\tremaining: 304ms\n",
      "110:\tlearn: 0.3403137\ttotal: 373ms\tremaining: 299ms\n",
      "111:\tlearn: 0.3388020\ttotal: 375ms\tremaining: 295ms\n",
      "112:\tlearn: 0.3367959\ttotal: 377ms\tremaining: 290ms\n",
      "113:\tlearn: 0.3361406\ttotal: 379ms\tremaining: 286ms\n",
      "114:\tlearn: 0.3341908\ttotal: 381ms\tremaining: 282ms\n",
      "115:\tlearn: 0.3334704\ttotal: 383ms\tremaining: 277ms\n",
      "116:\tlearn: 0.3332418\ttotal: 385ms\tremaining: 273ms\n",
      "117:\tlearn: 0.3316699\ttotal: 387ms\tremaining: 269ms\n",
      "118:\tlearn: 0.3295201\ttotal: 389ms\tremaining: 265ms\n",
      "119:\tlearn: 0.3277750\ttotal: 391ms\tremaining: 260ms\n",
      "120:\tlearn: 0.3271692\ttotal: 393ms\tremaining: 256ms\n",
      "121:\tlearn: 0.3261656\ttotal: 394ms\tremaining: 252ms\n",
      "122:\tlearn: 0.3255765\ttotal: 396ms\tremaining: 248ms\n",
      "123:\tlearn: 0.3239715\ttotal: 398ms\tremaining: 244ms\n",
      "124:\tlearn: 0.3224165\ttotal: 400ms\tremaining: 240ms\n",
      "125:\tlearn: 0.3218999\ttotal: 402ms\tremaining: 236ms\n",
      "126:\tlearn: 0.3216879\ttotal: 404ms\tremaining: 232ms\n",
      "127:\tlearn: 0.3190870\ttotal: 406ms\tremaining: 229ms\n",
      "128:\tlearn: 0.3183494\ttotal: 409ms\tremaining: 225ms\n",
      "129:\tlearn: 0.3179807\ttotal: 411ms\tremaining: 221ms\n",
      "130:\tlearn: 0.3178155\ttotal: 413ms\tremaining: 217ms\n",
      "131:\tlearn: 0.3162939\ttotal: 415ms\tremaining: 214ms\n",
      "132:\tlearn: 0.3159506\ttotal: 417ms\tremaining: 210ms\n",
      "133:\tlearn: 0.3135519\ttotal: 419ms\tremaining: 206ms\n",
      "134:\tlearn: 0.3115179\ttotal: 421ms\tremaining: 203ms\n",
      "135:\tlearn: 0.3109618\ttotal: 423ms\tremaining: 199ms\n",
      "136:\tlearn: 0.3105067\ttotal: 425ms\tremaining: 195ms\n",
      "137:\tlearn: 0.3088062\ttotal: 427ms\tremaining: 192ms\n",
      "138:\tlearn: 0.3074156\ttotal: 429ms\tremaining: 188ms\n",
      "139:\tlearn: 0.3062910\ttotal: 431ms\tremaining: 185ms\n",
      "140:\tlearn: 0.3061326\ttotal: 433ms\tremaining: 181ms\n",
      "141:\tlearn: 0.3048693\ttotal: 435ms\tremaining: 178ms\n",
      "142:\tlearn: 0.3028712\ttotal: 437ms\tremaining: 174ms\n",
      "143:\tlearn: 0.3009913\ttotal: 439ms\tremaining: 171ms\n",
      "144:\tlearn: 0.3007214\ttotal: 441ms\tremaining: 167ms\n",
      "145:\tlearn: 0.2993664\ttotal: 443ms\tremaining: 164ms\n",
      "146:\tlearn: 0.2991455\ttotal: 445ms\tremaining: 160ms\n",
      "147:\tlearn: 0.2988602\ttotal: 447ms\tremaining: 157ms\n",
      "148:\tlearn: 0.2976357\ttotal: 449ms\tremaining: 154ms\n",
      "149:\tlearn: 0.2974790\ttotal: 451ms\tremaining: 150ms\n",
      "150:\tlearn: 0.2972544\ttotal: 453ms\tremaining: 147ms\n",
      "151:\tlearn: 0.2971050\ttotal: 455ms\tremaining: 144ms\n",
      "152:\tlearn: 0.2968262\ttotal: 457ms\tremaining: 140ms\n",
      "153:\tlearn: 0.2966891\ttotal: 459ms\tremaining: 137ms\n",
      "154:\tlearn: 0.2957914\ttotal: 461ms\tremaining: 134ms\n",
      "155:\tlearn: 0.2931778\ttotal: 463ms\tremaining: 131ms\n",
      "156:\tlearn: 0.2924091\ttotal: 465ms\tremaining: 127ms\n",
      "157:\tlearn: 0.2923144\ttotal: 467ms\tremaining: 124ms\n",
      "158:\tlearn: 0.2917199\ttotal: 469ms\tremaining: 121ms\n",
      "159:\tlearn: 0.2895758\ttotal: 471ms\tremaining: 118ms\n",
      "160:\tlearn: 0.2891230\ttotal: 473ms\tremaining: 115ms\n",
      "161:\tlearn: 0.2877376\ttotal: 475ms\tremaining: 111ms\n",
      "162:\tlearn: 0.2866460\ttotal: 477ms\tremaining: 108ms\n",
      "163:\tlearn: 0.2850928\ttotal: 479ms\tremaining: 105ms\n",
      "164:\tlearn: 0.2834549\ttotal: 481ms\tremaining: 102ms\n",
      "165:\tlearn: 0.2830824\ttotal: 483ms\tremaining: 98.9ms\n",
      "166:\tlearn: 0.2814545\ttotal: 485ms\tremaining: 95.8ms\n",
      "167:\tlearn: 0.2807253\ttotal: 487ms\tremaining: 92.7ms\n",
      "168:\tlearn: 0.2790366\ttotal: 489ms\tremaining: 89.7ms\n",
      "169:\tlearn: 0.2788554\ttotal: 491ms\tremaining: 86.6ms\n",
      "170:\tlearn: 0.2770760\ttotal: 493ms\tremaining: 83.6ms\n",
      "171:\tlearn: 0.2769620\ttotal: 495ms\tremaining: 80.5ms\n",
      "172:\tlearn: 0.2767596\ttotal: 496ms\tremaining: 77.5ms\n",
      "173:\tlearn: 0.2753114\ttotal: 498ms\tremaining: 74.5ms\n",
      "174:\tlearn: 0.2737984\ttotal: 500ms\tremaining: 71.5ms\n",
      "175:\tlearn: 0.2737063\ttotal: 502ms\tremaining: 68.5ms\n",
      "176:\tlearn: 0.2721093\ttotal: 504ms\tremaining: 65.5ms\n",
      "177:\tlearn: 0.2720036\ttotal: 506ms\tremaining: 62.6ms\n",
      "178:\tlearn: 0.2705336\ttotal: 508ms\tremaining: 59.6ms\n",
      "179:\tlearn: 0.2704097\ttotal: 510ms\tremaining: 56.7ms\n",
      "180:\tlearn: 0.2695352\ttotal: 512ms\tremaining: 53.7ms\n",
      "181:\tlearn: 0.2690463\ttotal: 514ms\tremaining: 50.8ms\n",
      "182:\tlearn: 0.2671955\ttotal: 516ms\tremaining: 47.9ms\n",
      "183:\tlearn: 0.2655888\ttotal: 518ms\tremaining: 45ms\n",
      "184:\tlearn: 0.2642519\ttotal: 520ms\tremaining: 42.2ms\n",
      "185:\tlearn: 0.2640698\ttotal: 522ms\tremaining: 39.3ms\n",
      "186:\tlearn: 0.2632801\ttotal: 524ms\tremaining: 36.4ms\n",
      "187:\tlearn: 0.2622831\ttotal: 526ms\tremaining: 33.6ms\n",
      "188:\tlearn: 0.2621737\ttotal: 528ms\tremaining: 30.7ms\n",
      "189:\tlearn: 0.2608890\ttotal: 530ms\tremaining: 27.9ms\n",
      "190:\tlearn: 0.2600417\ttotal: 532ms\tremaining: 25.1ms\n",
      "191:\tlearn: 0.2587894\ttotal: 534ms\tremaining: 22.3ms\n",
      "192:\tlearn: 0.2575276\ttotal: 536ms\tremaining: 19.5ms\n",
      "193:\tlearn: 0.2562024\ttotal: 538ms\tremaining: 16.7ms\n",
      "194:\tlearn: 0.2559978\ttotal: 541ms\tremaining: 13.9ms\n",
      "195:\tlearn: 0.2558918\ttotal: 543ms\tremaining: 11.1ms\n",
      "196:\tlearn: 0.2547588\ttotal: 545ms\tremaining: 8.3ms\n",
      "197:\tlearn: 0.2537268\ttotal: 548ms\tremaining: 5.53ms\n",
      "198:\tlearn: 0.2521770\ttotal: 550ms\tremaining: 2.76ms\n",
      "199:\tlearn: 0.2515262\ttotal: 553ms\tremaining: 0us\n"
     ]
    }
   ],
   "source": [
    "catmodel=cat.fit(X,y)"
   ]
  },
  {
   "cell_type": "code",
   "execution_count": 95,
   "id": "4b633bb8",
   "metadata": {},
   "outputs": [
    {
     "data": {
      "text/plain": [
       "0.9398854961832062"
      ]
     },
     "execution_count": 95,
     "metadata": {},
     "output_type": "execute_result"
    }
   ],
   "source": [
    "catmodel.score(X,y)"
   ]
  },
  {
   "cell_type": "code",
   "execution_count": 96,
   "id": "6ffb611e",
   "metadata": {},
   "outputs": [
    {
     "name": "stdout",
     "output_type": "stream",
     "text": [
      "0:\tlearn: 0.6642366\ttotal: 2.12ms\tremaining: 421ms\n",
      "1:\tlearn: 0.6441983\ttotal: 4.48ms\tremaining: 444ms\n",
      "2:\tlearn: 0.6200777\ttotal: 6.66ms\tremaining: 437ms\n",
      "3:\tlearn: 0.6003840\ttotal: 8.63ms\tremaining: 423ms\n",
      "4:\tlearn: 0.5843816\ttotal: 10.6ms\tremaining: 412ms\n",
      "5:\tlearn: 0.5646072\ttotal: 12.7ms\tremaining: 411ms\n",
      "6:\tlearn: 0.5489934\ttotal: 15ms\tremaining: 412ms\n",
      "7:\tlearn: 0.5417595\ttotal: 16.9ms\tremaining: 407ms\n",
      "8:\tlearn: 0.5331263\ttotal: 19.2ms\tremaining: 408ms\n",
      "9:\tlearn: 0.5214514\ttotal: 21.3ms\tremaining: 404ms\n",
      "10:\tlearn: 0.5127704\ttotal: 23.2ms\tremaining: 398ms\n",
      "11:\tlearn: 0.5061855\ttotal: 25ms\tremaining: 392ms\n",
      "12:\tlearn: 0.5027950\ttotal: 26.9ms\tremaining: 386ms\n",
      "13:\tlearn: 0.4977332\ttotal: 28.7ms\tremaining: 381ms\n",
      "14:\tlearn: 0.4920268\ttotal: 30.6ms\tremaining: 378ms\n",
      "15:\tlearn: 0.4875999\ttotal: 32.7ms\tremaining: 376ms\n",
      "16:\tlearn: 0.4846218\ttotal: 34.8ms\tremaining: 375ms\n",
      "17:\tlearn: 0.4804731\ttotal: 36.8ms\tremaining: 372ms\n",
      "18:\tlearn: 0.4779809\ttotal: 38.8ms\tremaining: 370ms\n",
      "19:\tlearn: 0.4757478\ttotal: 40.7ms\tremaining: 366ms\n",
      "20:\tlearn: 0.4715755\ttotal: 42.6ms\tremaining: 363ms\n",
      "21:\tlearn: 0.4671415\ttotal: 44.7ms\tremaining: 361ms\n",
      "22:\tlearn: 0.4640310\ttotal: 46.8ms\tremaining: 360ms\n",
      "23:\tlearn: 0.4602633\ttotal: 48.8ms\tremaining: 358ms\n",
      "24:\tlearn: 0.4568063\ttotal: 50.7ms\tremaining: 355ms\n",
      "25:\tlearn: 0.4530007\ttotal: 52.9ms\tremaining: 354ms\n",
      "26:\tlearn: 0.4505048\ttotal: 55ms\tremaining: 353ms\n",
      "27:\tlearn: 0.4470061\ttotal: 57.3ms\tremaining: 352ms\n",
      "28:\tlearn: 0.4442545\ttotal: 59.5ms\tremaining: 351ms\n",
      "29:\tlearn: 0.4423482\ttotal: 61.4ms\tremaining: 348ms\n",
      "30:\tlearn: 0.4387209\ttotal: 63.5ms\tremaining: 346ms\n",
      "31:\tlearn: 0.4340485\ttotal: 65.6ms\tremaining: 344ms\n",
      "32:\tlearn: 0.4302393\ttotal: 67.5ms\tremaining: 342ms\n",
      "33:\tlearn: 0.4284307\ttotal: 69.4ms\tremaining: 339ms\n",
      "34:\tlearn: 0.4265767\ttotal: 71.4ms\tremaining: 336ms\n",
      "35:\tlearn: 0.4219581\ttotal: 73.5ms\tremaining: 335ms\n",
      "36:\tlearn: 0.4189591\ttotal: 75.5ms\tremaining: 333ms\n",
      "37:\tlearn: 0.4175141\ttotal: 77.6ms\tremaining: 331ms\n",
      "38:\tlearn: 0.4158512\ttotal: 79.6ms\tremaining: 329ms\n",
      "39:\tlearn: 0.4117993\ttotal: 81.6ms\tremaining: 326ms\n",
      "40:\tlearn: 0.4099742\ttotal: 83.9ms\tremaining: 326ms\n",
      "41:\tlearn: 0.4075256\ttotal: 86.2ms\tremaining: 324ms\n",
      "42:\tlearn: 0.4065404\ttotal: 88.2ms\tremaining: 322ms\n",
      "43:\tlearn: 0.4056710\ttotal: 90.3ms\tremaining: 320ms\n",
      "44:\tlearn: 0.4042735\ttotal: 92.4ms\tremaining: 318ms\n",
      "45:\tlearn: 0.4023965\ttotal: 94.3ms\tremaining: 316ms\n",
      "46:\tlearn: 0.4006048\ttotal: 96.4ms\tremaining: 314ms\n",
      "47:\tlearn: 0.3990078\ttotal: 98.4ms\tremaining: 312ms\n",
      "48:\tlearn: 0.3970088\ttotal: 101ms\tremaining: 310ms\n",
      "49:\tlearn: 0.3951511\ttotal: 103ms\tremaining: 309ms\n",
      "50:\tlearn: 0.3929456\ttotal: 105ms\tremaining: 308ms\n",
      "51:\tlearn: 0.3911778\ttotal: 107ms\tremaining: 306ms\n",
      "52:\tlearn: 0.3900513\ttotal: 109ms\tremaining: 303ms\n",
      "53:\tlearn: 0.3881910\ttotal: 111ms\tremaining: 301ms\n",
      "54:\tlearn: 0.3865253\ttotal: 113ms\tremaining: 299ms\n",
      "55:\tlearn: 0.3852275\ttotal: 116ms\tremaining: 298ms\n",
      "56:\tlearn: 0.3844152\ttotal: 118ms\tremaining: 296ms\n",
      "57:\tlearn: 0.3833454\ttotal: 120ms\tremaining: 294ms\n",
      "58:\tlearn: 0.3810714\ttotal: 122ms\tremaining: 292ms\n",
      "59:\tlearn: 0.3771464\ttotal: 124ms\tremaining: 289ms\n",
      "60:\tlearn: 0.3754153\ttotal: 126ms\tremaining: 287ms\n",
      "61:\tlearn: 0.3731864\ttotal: 128ms\tremaining: 285ms\n",
      "62:\tlearn: 0.3709238\ttotal: 130ms\tremaining: 282ms\n",
      "63:\tlearn: 0.3692626\ttotal: 132ms\tremaining: 281ms\n",
      "64:\tlearn: 0.3680249\ttotal: 134ms\tremaining: 279ms\n",
      "65:\tlearn: 0.3647719\ttotal: 136ms\tremaining: 277ms\n",
      "66:\tlearn: 0.3632597\ttotal: 139ms\tremaining: 275ms\n",
      "67:\tlearn: 0.3604685\ttotal: 141ms\tremaining: 273ms\n",
      "68:\tlearn: 0.3583484\ttotal: 143ms\tremaining: 271ms\n",
      "69:\tlearn: 0.3555630\ttotal: 145ms\tremaining: 269ms\n",
      "70:\tlearn: 0.3538996\ttotal: 147ms\tremaining: 267ms\n",
      "71:\tlearn: 0.3532509\ttotal: 149ms\tremaining: 265ms\n",
      "72:\tlearn: 0.3529920\ttotal: 151ms\tremaining: 263ms\n",
      "73:\tlearn: 0.3517644\ttotal: 153ms\tremaining: 261ms\n",
      "74:\tlearn: 0.3484335\ttotal: 155ms\tremaining: 259ms\n",
      "75:\tlearn: 0.3472606\ttotal: 157ms\tremaining: 256ms\n",
      "76:\tlearn: 0.3459810\ttotal: 159ms\tremaining: 254ms\n",
      "77:\tlearn: 0.3429791\ttotal: 161ms\tremaining: 252ms\n",
      "78:\tlearn: 0.3418661\ttotal: 163ms\tremaining: 250ms\n",
      "79:\tlearn: 0.3404176\ttotal: 165ms\tremaining: 248ms\n",
      "80:\tlearn: 0.3387090\ttotal: 167ms\tremaining: 245ms\n",
      "81:\tlearn: 0.3358180\ttotal: 169ms\tremaining: 243ms\n",
      "82:\tlearn: 0.3333953\ttotal: 171ms\tremaining: 241ms\n",
      "83:\tlearn: 0.3295101\ttotal: 173ms\tremaining: 239ms\n",
      "84:\tlearn: 0.3271750\ttotal: 175ms\tremaining: 237ms\n",
      "85:\tlearn: 0.3267116\ttotal: 178ms\tremaining: 235ms\n",
      "86:\tlearn: 0.3260901\ttotal: 180ms\tremaining: 234ms\n",
      "87:\tlearn: 0.3234187\ttotal: 182ms\tremaining: 232ms\n",
      "88:\tlearn: 0.3201725\ttotal: 184ms\tremaining: 230ms\n",
      "89:\tlearn: 0.3179366\ttotal: 187ms\tremaining: 228ms\n",
      "90:\tlearn: 0.3157086\ttotal: 189ms\tremaining: 226ms\n",
      "91:\tlearn: 0.3147511\ttotal: 191ms\tremaining: 224ms\n",
      "92:\tlearn: 0.3125341\ttotal: 193ms\tremaining: 222ms\n",
      "93:\tlearn: 0.3110838\ttotal: 196ms\tremaining: 221ms\n",
      "94:\tlearn: 0.3105310\ttotal: 199ms\tremaining: 220ms\n",
      "95:\tlearn: 0.3096621\ttotal: 202ms\tremaining: 218ms\n",
      "96:\tlearn: 0.3093319\ttotal: 205ms\tremaining: 217ms\n",
      "97:\tlearn: 0.3089418\ttotal: 208ms\tremaining: 216ms\n",
      "98:\tlearn: 0.3066617\ttotal: 211ms\tremaining: 215ms\n",
      "99:\tlearn: 0.3041397\ttotal: 214ms\tremaining: 214ms\n",
      "100:\tlearn: 0.3037325\ttotal: 216ms\tremaining: 212ms\n",
      "101:\tlearn: 0.3032088\ttotal: 219ms\tremaining: 210ms\n",
      "102:\tlearn: 0.3029161\ttotal: 222ms\tremaining: 209ms\n",
      "103:\tlearn: 0.3004694\ttotal: 225ms\tremaining: 208ms\n",
      "104:\tlearn: 0.2985222\ttotal: 228ms\tremaining: 206ms\n",
      "105:\tlearn: 0.2982753\ttotal: 231ms\tremaining: 205ms\n",
      "106:\tlearn: 0.2959910\ttotal: 234ms\tremaining: 203ms\n",
      "107:\tlearn: 0.2931831\ttotal: 236ms\tremaining: 201ms\n",
      "108:\tlearn: 0.2925852\ttotal: 239ms\tremaining: 200ms\n",
      "109:\tlearn: 0.2922965\ttotal: 242ms\tremaining: 198ms\n",
      "110:\tlearn: 0.2920262\ttotal: 245ms\tremaining: 196ms\n",
      "111:\tlearn: 0.2910369\ttotal: 247ms\tremaining: 194ms\n",
      "112:\tlearn: 0.2908602\ttotal: 250ms\tremaining: 192ms\n",
      "113:\tlearn: 0.2893230\ttotal: 252ms\tremaining: 190ms\n",
      "114:\tlearn: 0.2873846\ttotal: 255ms\tremaining: 189ms\n",
      "115:\tlearn: 0.2861734\ttotal: 258ms\tremaining: 187ms\n",
      "116:\tlearn: 0.2835681\ttotal: 261ms\tremaining: 185ms\n",
      "117:\tlearn: 0.2818027\ttotal: 263ms\tremaining: 183ms\n",
      "118:\tlearn: 0.2791762\ttotal: 266ms\tremaining: 181ms\n",
      "119:\tlearn: 0.2777755\ttotal: 269ms\tremaining: 179ms\n",
      "120:\tlearn: 0.2766676\ttotal: 272ms\tremaining: 178ms\n",
      "121:\tlearn: 0.2763928\ttotal: 275ms\tremaining: 176ms\n",
      "122:\tlearn: 0.2743836\ttotal: 278ms\tremaining: 174ms\n",
      "123:\tlearn: 0.2741950\ttotal: 281ms\tremaining: 172ms\n",
      "124:\tlearn: 0.2728445\ttotal: 283ms\tremaining: 170ms\n",
      "125:\tlearn: 0.2715061\ttotal: 286ms\tremaining: 168ms\n",
      "126:\tlearn: 0.2712349\ttotal: 288ms\tremaining: 166ms\n",
      "127:\tlearn: 0.2695548\ttotal: 291ms\tremaining: 163ms\n",
      "128:\tlearn: 0.2678806\ttotal: 293ms\tremaining: 161ms\n",
      "129:\tlearn: 0.2677276\ttotal: 296ms\tremaining: 159ms\n",
      "130:\tlearn: 0.2665140\ttotal: 299ms\tremaining: 157ms\n",
      "131:\tlearn: 0.2654228\ttotal: 301ms\tremaining: 155ms\n",
      "132:\tlearn: 0.2640067\ttotal: 304ms\tremaining: 153ms\n",
      "133:\tlearn: 0.2629404\ttotal: 306ms\tremaining: 151ms\n",
      "134:\tlearn: 0.2627615\ttotal: 309ms\tremaining: 149ms\n",
      "135:\tlearn: 0.2617902\ttotal: 311ms\tremaining: 146ms\n",
      "136:\tlearn: 0.2616002\ttotal: 313ms\tremaining: 144ms\n",
      "137:\tlearn: 0.2605642\ttotal: 315ms\tremaining: 142ms\n",
      "138:\tlearn: 0.2598043\ttotal: 318ms\tremaining: 139ms\n",
      "139:\tlearn: 0.2596500\ttotal: 320ms\tremaining: 137ms\n",
      "140:\tlearn: 0.2577748\ttotal: 322ms\tremaining: 135ms\n",
      "141:\tlearn: 0.2576413\ttotal: 325ms\tremaining: 133ms\n",
      "142:\tlearn: 0.2562703\ttotal: 328ms\tremaining: 131ms\n",
      "143:\tlearn: 0.2560294\ttotal: 331ms\tremaining: 129ms\n",
      "144:\tlearn: 0.2542570\ttotal: 333ms\tremaining: 126ms\n",
      "145:\tlearn: 0.2537451\ttotal: 335ms\tremaining: 124ms\n",
      "146:\tlearn: 0.2529158\ttotal: 338ms\tremaining: 122ms\n",
      "147:\tlearn: 0.2528023\ttotal: 340ms\tremaining: 120ms\n",
      "148:\tlearn: 0.2516231\ttotal: 343ms\tremaining: 117ms\n",
      "149:\tlearn: 0.2512518\ttotal: 345ms\tremaining: 115ms\n",
      "150:\tlearn: 0.2494296\ttotal: 348ms\tremaining: 113ms\n",
      "151:\tlearn: 0.2485373\ttotal: 350ms\tremaining: 111ms\n",
      "152:\tlearn: 0.2481449\ttotal: 352ms\tremaining: 108ms\n",
      "153:\tlearn: 0.2480036\ttotal: 355ms\tremaining: 106ms\n",
      "154:\tlearn: 0.2473980\ttotal: 357ms\tremaining: 104ms\n",
      "155:\tlearn: 0.2465997\ttotal: 359ms\tremaining: 101ms\n",
      "156:\tlearn: 0.2447096\ttotal: 361ms\tremaining: 99ms\n",
      "157:\tlearn: 0.2429747\ttotal: 364ms\tremaining: 96.7ms\n",
      "158:\tlearn: 0.2412993\ttotal: 366ms\tremaining: 94.5ms\n",
      "159:\tlearn: 0.2397323\ttotal: 369ms\tremaining: 92.2ms\n",
      "160:\tlearn: 0.2388742\ttotal: 371ms\tremaining: 89.9ms\n",
      "161:\tlearn: 0.2384701\ttotal: 373ms\tremaining: 87.6ms\n",
      "162:\tlearn: 0.2365592\ttotal: 376ms\tremaining: 85.3ms\n",
      "163:\tlearn: 0.2363147\ttotal: 378ms\tremaining: 83ms\n",
      "164:\tlearn: 0.2346059\ttotal: 381ms\tremaining: 80.8ms\n",
      "165:\tlearn: 0.2336720\ttotal: 383ms\tremaining: 78.5ms\n",
      "166:\tlearn: 0.2335187\ttotal: 386ms\tremaining: 76.3ms\n",
      "167:\tlearn: 0.2315822\ttotal: 388ms\tremaining: 74ms\n",
      "168:\tlearn: 0.2307433\ttotal: 390ms\tremaining: 71.6ms\n",
      "169:\tlearn: 0.2281730\ttotal: 393ms\tremaining: 69.3ms\n",
      "170:\tlearn: 0.2271757\ttotal: 395ms\tremaining: 67ms\n",
      "171:\tlearn: 0.2270463\ttotal: 398ms\tremaining: 64.7ms\n",
      "172:\tlearn: 0.2254113\ttotal: 400ms\tremaining: 62.5ms\n",
      "173:\tlearn: 0.2249107\ttotal: 403ms\tremaining: 60.2ms\n",
      "174:\tlearn: 0.2242273\ttotal: 405ms\tremaining: 57.8ms\n",
      "175:\tlearn: 0.2237745\ttotal: 407ms\tremaining: 55.5ms\n",
      "176:\tlearn: 0.2225586\ttotal: 409ms\tremaining: 53.2ms\n",
      "177:\tlearn: 0.2224457\ttotal: 411ms\tremaining: 50.9ms\n",
      "178:\tlearn: 0.2220149\ttotal: 414ms\tremaining: 48.5ms\n",
      "179:\tlearn: 0.2208822\ttotal: 416ms\tremaining: 46.2ms\n",
      "180:\tlearn: 0.2202156\ttotal: 418ms\tremaining: 43.9ms\n",
      "181:\tlearn: 0.2201108\ttotal: 420ms\tremaining: 41.6ms\n",
      "182:\tlearn: 0.2188390\ttotal: 422ms\tremaining: 39.2ms\n",
      "183:\tlearn: 0.2185976\ttotal: 424ms\tremaining: 36.9ms\n",
      "184:\tlearn: 0.2181842\ttotal: 426ms\tremaining: 34.6ms\n",
      "185:\tlearn: 0.2180923\ttotal: 428ms\tremaining: 32.3ms\n",
      "186:\tlearn: 0.2179285\ttotal: 431ms\tremaining: 29.9ms\n",
      "187:\tlearn: 0.2172314\ttotal: 433ms\tremaining: 27.6ms\n",
      "188:\tlearn: 0.2153386\ttotal: 435ms\tremaining: 25.3ms\n",
      "189:\tlearn: 0.2146469\ttotal: 437ms\tremaining: 23ms\n",
      "190:\tlearn: 0.2131520\ttotal: 439ms\tremaining: 20.7ms\n",
      "191:\tlearn: 0.2123609\ttotal: 441ms\tremaining: 18.4ms\n",
      "192:\tlearn: 0.2122431\ttotal: 444ms\tremaining: 16.1ms\n",
      "193:\tlearn: 0.2111161\ttotal: 446ms\tremaining: 13.8ms\n",
      "194:\tlearn: 0.2104125\ttotal: 449ms\tremaining: 11.5ms\n",
      "195:\tlearn: 0.2090637\ttotal: 451ms\tremaining: 9.21ms\n",
      "196:\tlearn: 0.2080024\ttotal: 454ms\tremaining: 6.91ms\n",
      "197:\tlearn: 0.2071701\ttotal: 456ms\tremaining: 4.61ms\n",
      "198:\tlearn: 0.2064729\ttotal: 459ms\tremaining: 2.3ms\n",
      "199:\tlearn: 0.2052740\ttotal: 461ms\tremaining: 0us\n",
      "0:\tlearn: 0.6598003\ttotal: 2.12ms\tremaining: 423ms\n",
      "1:\tlearn: 0.6368546\ttotal: 4.58ms\tremaining: 453ms\n",
      "2:\tlearn: 0.6124027\ttotal: 6.52ms\tremaining: 428ms\n",
      "3:\tlearn: 0.5943225\ttotal: 8.34ms\tremaining: 409ms\n",
      "4:\tlearn: 0.5796993\ttotal: 10.2ms\tremaining: 397ms\n",
      "5:\tlearn: 0.5682836\ttotal: 12ms\tremaining: 388ms\n",
      "6:\tlearn: 0.5559866\ttotal: 14ms\tremaining: 385ms\n",
      "7:\tlearn: 0.5484748\ttotal: 16.1ms\tremaining: 387ms\n",
      "8:\tlearn: 0.5421353\ttotal: 18ms\tremaining: 383ms\n",
      "9:\tlearn: 0.5323054\ttotal: 20.1ms\tremaining: 381ms\n",
      "10:\tlearn: 0.5239136\ttotal: 22.1ms\tremaining: 380ms\n",
      "11:\tlearn: 0.5161154\ttotal: 24.1ms\tremaining: 378ms\n",
      "12:\tlearn: 0.5111153\ttotal: 26.2ms\tremaining: 377ms\n",
      "13:\tlearn: 0.5060128\ttotal: 28.5ms\tremaining: 379ms\n",
      "14:\tlearn: 0.5022864\ttotal: 30.7ms\tremaining: 378ms\n",
      "15:\tlearn: 0.4980402\ttotal: 32.9ms\tremaining: 378ms\n",
      "16:\tlearn: 0.4938689\ttotal: 34.8ms\tremaining: 374ms\n",
      "17:\tlearn: 0.4909002\ttotal: 36.9ms\tremaining: 373ms\n",
      "18:\tlearn: 0.4881502\ttotal: 39ms\tremaining: 372ms\n",
      "19:\tlearn: 0.4840897\ttotal: 41ms\tremaining: 369ms\n",
      "20:\tlearn: 0.4821036\ttotal: 43.9ms\tremaining: 375ms\n",
      "21:\tlearn: 0.4790463\ttotal: 46.3ms\tremaining: 375ms\n",
      "22:\tlearn: 0.4757214\ttotal: 48.6ms\tremaining: 374ms\n",
      "23:\tlearn: 0.4739664\ttotal: 50.7ms\tremaining: 372ms\n",
      "24:\tlearn: 0.4687637\ttotal: 53.2ms\tremaining: 372ms\n",
      "25:\tlearn: 0.4663792\ttotal: 55.2ms\tremaining: 370ms\n",
      "26:\tlearn: 0.4621735\ttotal: 57.2ms\tremaining: 366ms\n",
      "27:\tlearn: 0.4564039\ttotal: 59.3ms\tremaining: 364ms\n",
      "28:\tlearn: 0.4538163\ttotal: 61.8ms\tremaining: 364ms\n",
      "29:\tlearn: 0.4505980\ttotal: 63.8ms\tremaining: 361ms\n",
      "30:\tlearn: 0.4479118\ttotal: 65.8ms\tremaining: 359ms\n",
      "31:\tlearn: 0.4439502\ttotal: 67.6ms\tremaining: 355ms\n",
      "32:\tlearn: 0.4425537\ttotal: 69.6ms\tremaining: 352ms\n",
      "33:\tlearn: 0.4408201\ttotal: 71.5ms\tremaining: 349ms\n",
      "34:\tlearn: 0.4399397\ttotal: 73.7ms\tremaining: 347ms\n",
      "35:\tlearn: 0.4376853\ttotal: 75.8ms\tremaining: 346ms\n",
      "36:\tlearn: 0.4353981\ttotal: 78.1ms\tremaining: 344ms\n",
      "37:\tlearn: 0.4330521\ttotal: 80.5ms\tremaining: 343ms\n",
      "38:\tlearn: 0.4306833\ttotal: 83.1ms\tremaining: 343ms\n",
      "39:\tlearn: 0.4274305\ttotal: 85.4ms\tremaining: 342ms\n",
      "40:\tlearn: 0.4248598\ttotal: 87.6ms\tremaining: 340ms\n",
      "41:\tlearn: 0.4236239\ttotal: 89.5ms\tremaining: 337ms\n",
      "42:\tlearn: 0.4214826\ttotal: 91.6ms\tremaining: 335ms\n",
      "43:\tlearn: 0.4183135\ttotal: 93.9ms\tremaining: 333ms\n",
      "44:\tlearn: 0.4166345\ttotal: 95.8ms\tremaining: 330ms\n",
      "45:\tlearn: 0.4146119\ttotal: 97.7ms\tremaining: 327ms\n",
      "46:\tlearn: 0.4133281\ttotal: 99.6ms\tremaining: 324ms\n",
      "47:\tlearn: 0.4120479\ttotal: 101ms\tremaining: 321ms\n",
      "48:\tlearn: 0.4093097\ttotal: 103ms\tremaining: 318ms\n",
      "49:\tlearn: 0.4061466\ttotal: 105ms\tremaining: 315ms\n",
      "50:\tlearn: 0.4024670\ttotal: 107ms\tremaining: 313ms\n",
      "51:\tlearn: 0.4006717\ttotal: 109ms\tremaining: 310ms\n",
      "52:\tlearn: 0.3996968\ttotal: 111ms\tremaining: 308ms\n",
      "53:\tlearn: 0.3976255\ttotal: 113ms\tremaining: 305ms\n",
      "54:\tlearn: 0.3961913\ttotal: 115ms\tremaining: 302ms\n",
      "55:\tlearn: 0.3952610\ttotal: 117ms\tremaining: 300ms\n",
      "56:\tlearn: 0.3934198\ttotal: 119ms\tremaining: 298ms\n",
      "57:\tlearn: 0.3913381\ttotal: 121ms\tremaining: 295ms\n",
      "58:\tlearn: 0.3890567\ttotal: 122ms\tremaining: 292ms\n",
      "59:\tlearn: 0.3880171\ttotal: 124ms\tremaining: 290ms\n",
      "60:\tlearn: 0.3844441\ttotal: 126ms\tremaining: 287ms\n",
      "61:\tlearn: 0.3811722\ttotal: 128ms\tremaining: 285ms\n",
      "62:\tlearn: 0.3796272\ttotal: 130ms\tremaining: 282ms\n",
      "63:\tlearn: 0.3781193\ttotal: 132ms\tremaining: 280ms\n",
      "64:\tlearn: 0.3761804\ttotal: 134ms\tremaining: 278ms\n",
      "65:\tlearn: 0.3756009\ttotal: 136ms\tremaining: 275ms\n",
      "66:\tlearn: 0.3746954\ttotal: 137ms\tremaining: 273ms\n",
      "67:\tlearn: 0.3722207\ttotal: 139ms\tremaining: 270ms\n",
      "68:\tlearn: 0.3708675\ttotal: 141ms\tremaining: 268ms\n",
      "69:\tlearn: 0.3691530\ttotal: 143ms\tremaining: 266ms\n",
      "70:\tlearn: 0.3680890\ttotal: 145ms\tremaining: 263ms\n",
      "71:\tlearn: 0.3663099\ttotal: 147ms\tremaining: 261ms\n",
      "72:\tlearn: 0.3651380\ttotal: 149ms\tremaining: 259ms\n",
      "73:\tlearn: 0.3644591\ttotal: 151ms\tremaining: 257ms\n",
      "74:\tlearn: 0.3628388\ttotal: 153ms\tremaining: 254ms\n",
      "75:\tlearn: 0.3613356\ttotal: 154ms\tremaining: 252ms\n",
      "76:\tlearn: 0.3578657\ttotal: 156ms\tremaining: 250ms\n",
      "77:\tlearn: 0.3545455\ttotal: 159ms\tremaining: 248ms\n",
      "78:\tlearn: 0.3534595\ttotal: 160ms\tremaining: 246ms\n",
      "79:\tlearn: 0.3527736\ttotal: 162ms\tremaining: 244ms\n",
      "80:\tlearn: 0.3524375\ttotal: 164ms\tremaining: 242ms\n",
      "81:\tlearn: 0.3518684\ttotal: 166ms\tremaining: 239ms\n",
      "82:\tlearn: 0.3497453\ttotal: 168ms\tremaining: 237ms\n",
      "83:\tlearn: 0.3466644\ttotal: 170ms\tremaining: 235ms\n",
      "84:\tlearn: 0.3461545\ttotal: 172ms\tremaining: 232ms\n",
      "85:\tlearn: 0.3450102\ttotal: 174ms\tremaining: 230ms\n",
      "86:\tlearn: 0.3443876\ttotal: 176ms\tremaining: 228ms\n",
      "87:\tlearn: 0.3425302\ttotal: 178ms\tremaining: 226ms\n",
      "88:\tlearn: 0.3420536\ttotal: 179ms\tremaining: 224ms\n",
      "89:\tlearn: 0.3410052\ttotal: 181ms\tremaining: 221ms\n",
      "90:\tlearn: 0.3396036\ttotal: 183ms\tremaining: 219ms\n",
      "91:\tlearn: 0.3392585\ttotal: 185ms\tremaining: 217ms\n",
      "92:\tlearn: 0.3372538\ttotal: 187ms\tremaining: 215ms\n",
      "93:\tlearn: 0.3355371\ttotal: 189ms\tremaining: 213ms\n",
      "94:\tlearn: 0.3351316\ttotal: 191ms\tremaining: 211ms\n",
      "95:\tlearn: 0.3339406\ttotal: 193ms\tremaining: 209ms\n",
      "96:\tlearn: 0.3335687\ttotal: 194ms\tremaining: 206ms\n",
      "97:\tlearn: 0.3322546\ttotal: 196ms\tremaining: 204ms\n",
      "98:\tlearn: 0.3319696\ttotal: 198ms\tremaining: 202ms\n",
      "99:\tlearn: 0.3314110\ttotal: 200ms\tremaining: 200ms\n",
      "100:\tlearn: 0.3297983\ttotal: 203ms\tremaining: 199ms\n",
      "101:\tlearn: 0.3294506\ttotal: 205ms\tremaining: 197ms\n",
      "102:\tlearn: 0.3273770\ttotal: 207ms\tremaining: 195ms\n",
      "103:\tlearn: 0.3261207\ttotal: 209ms\tremaining: 193ms\n",
      "104:\tlearn: 0.3232003\ttotal: 211ms\tremaining: 191ms\n",
      "105:\tlearn: 0.3198266\ttotal: 213ms\tremaining: 189ms\n",
      "106:\tlearn: 0.3166260\ttotal: 215ms\tremaining: 187ms\n",
      "107:\tlearn: 0.3144544\ttotal: 217ms\tremaining: 185ms\n",
      "108:\tlearn: 0.3132680\ttotal: 219ms\tremaining: 183ms\n",
      "109:\tlearn: 0.3130731\ttotal: 221ms\tremaining: 181ms\n",
      "110:\tlearn: 0.3113779\ttotal: 223ms\tremaining: 179ms\n",
      "111:\tlearn: 0.3108842\ttotal: 225ms\tremaining: 177ms\n",
      "112:\tlearn: 0.3086382\ttotal: 227ms\tremaining: 175ms\n",
      "113:\tlearn: 0.3072666\ttotal: 228ms\tremaining: 172ms\n",
      "114:\tlearn: 0.3050086\ttotal: 231ms\tremaining: 170ms\n",
      "115:\tlearn: 0.3034045\ttotal: 232ms\tremaining: 168ms\n",
      "116:\tlearn: 0.3001479\ttotal: 234ms\tremaining: 166ms\n",
      "117:\tlearn: 0.2970587\ttotal: 236ms\tremaining: 164ms\n",
      "118:\tlearn: 0.2947144\ttotal: 238ms\tremaining: 162ms\n",
      "119:\tlearn: 0.2929192\ttotal: 240ms\tremaining: 160ms\n",
      "120:\tlearn: 0.2927149\ttotal: 242ms\tremaining: 158ms\n",
      "121:\tlearn: 0.2908452\ttotal: 244ms\tremaining: 156ms\n",
      "122:\tlearn: 0.2883462\ttotal: 246ms\tremaining: 154ms\n",
      "123:\tlearn: 0.2873582\ttotal: 248ms\tremaining: 152ms\n",
      "124:\tlearn: 0.2871144\ttotal: 249ms\tremaining: 150ms\n",
      "125:\tlearn: 0.2856322\ttotal: 252ms\tremaining: 148ms\n",
      "126:\tlearn: 0.2854621\ttotal: 253ms\tremaining: 146ms\n",
      "127:\tlearn: 0.2850985\ttotal: 255ms\tremaining: 144ms\n",
      "128:\tlearn: 0.2837991\ttotal: 258ms\tremaining: 142ms\n",
      "129:\tlearn: 0.2820873\ttotal: 259ms\tremaining: 140ms\n",
      "130:\tlearn: 0.2817168\ttotal: 261ms\tremaining: 138ms\n",
      "131:\tlearn: 0.2805816\ttotal: 263ms\tremaining: 136ms\n",
      "132:\tlearn: 0.2793008\ttotal: 265ms\tremaining: 134ms\n",
      "133:\tlearn: 0.2786089\ttotal: 267ms\tremaining: 132ms\n",
      "134:\tlearn: 0.2773938\ttotal: 269ms\tremaining: 130ms\n",
      "135:\tlearn: 0.2763956\ttotal: 271ms\tremaining: 127ms\n",
      "136:\tlearn: 0.2762327\ttotal: 273ms\tremaining: 125ms\n",
      "137:\tlearn: 0.2758682\ttotal: 274ms\tremaining: 123ms\n",
      "138:\tlearn: 0.2744574\ttotal: 276ms\tremaining: 121ms\n",
      "139:\tlearn: 0.2730292\ttotal: 278ms\tremaining: 119ms\n",
      "140:\tlearn: 0.2713844\ttotal: 280ms\tremaining: 117ms\n",
      "141:\tlearn: 0.2711598\ttotal: 281ms\tremaining: 115ms\n",
      "142:\tlearn: 0.2709592\ttotal: 283ms\tremaining: 113ms\n",
      "143:\tlearn: 0.2700099\ttotal: 285ms\tremaining: 111ms\n",
      "144:\tlearn: 0.2684813\ttotal: 287ms\tremaining: 109ms\n",
      "145:\tlearn: 0.2683455\ttotal: 289ms\tremaining: 107ms\n",
      "146:\tlearn: 0.2682161\ttotal: 290ms\tremaining: 105ms\n",
      "147:\tlearn: 0.2678760\ttotal: 292ms\tremaining: 103ms\n",
      "148:\tlearn: 0.2666633\ttotal: 294ms\tremaining: 101ms\n",
      "149:\tlearn: 0.2652077\ttotal: 296ms\tremaining: 98.6ms\n",
      "150:\tlearn: 0.2650696\ttotal: 298ms\tremaining: 96.6ms\n",
      "151:\tlearn: 0.2646690\ttotal: 299ms\tremaining: 94.5ms\n",
      "152:\tlearn: 0.2628637\ttotal: 301ms\tremaining: 92.5ms\n",
      "153:\tlearn: 0.2614660\ttotal: 303ms\tremaining: 90.5ms\n",
      "154:\tlearn: 0.2594886\ttotal: 305ms\tremaining: 88.6ms\n",
      "155:\tlearn: 0.2593337\ttotal: 307ms\tremaining: 86.5ms\n",
      "156:\tlearn: 0.2591469\ttotal: 309ms\tremaining: 84.5ms\n",
      "157:\tlearn: 0.2578354\ttotal: 310ms\tremaining: 82.5ms\n",
      "158:\tlearn: 0.2559059\ttotal: 312ms\tremaining: 80.5ms\n",
      "159:\tlearn: 0.2543161\ttotal: 314ms\tremaining: 78.5ms\n",
      "160:\tlearn: 0.2541860\ttotal: 316ms\tremaining: 76.5ms\n",
      "161:\tlearn: 0.2540339\ttotal: 317ms\tremaining: 74.5ms\n",
      "162:\tlearn: 0.2522422\ttotal: 319ms\tremaining: 72.5ms\n",
      "163:\tlearn: 0.2521531\ttotal: 321ms\tremaining: 70.4ms\n",
      "164:\tlearn: 0.2504990\ttotal: 323ms\tremaining: 68.4ms\n",
      "165:\tlearn: 0.2493747\ttotal: 324ms\tremaining: 66.4ms\n",
      "166:\tlearn: 0.2470918\ttotal: 326ms\tremaining: 64.5ms\n",
      "167:\tlearn: 0.2469395\ttotal: 328ms\tremaining: 62.4ms\n",
      "168:\tlearn: 0.2446869\ttotal: 330ms\tremaining: 60.5ms\n",
      "169:\tlearn: 0.2444391\ttotal: 331ms\tremaining: 58.5ms\n",
      "170:\tlearn: 0.2431509\ttotal: 333ms\tremaining: 56.5ms\n",
      "171:\tlearn: 0.2418599\ttotal: 335ms\tremaining: 54.5ms\n",
      "172:\tlearn: 0.2399862\ttotal: 337ms\tremaining: 52.6ms\n",
      "173:\tlearn: 0.2391853\ttotal: 338ms\tremaining: 50.6ms\n",
      "174:\tlearn: 0.2378864\ttotal: 341ms\tremaining: 48.7ms\n",
      "175:\tlearn: 0.2372624\ttotal: 342ms\tremaining: 46.7ms\n",
      "176:\tlearn: 0.2371331\ttotal: 344ms\tremaining: 44.7ms\n",
      "177:\tlearn: 0.2357666\ttotal: 346ms\tremaining: 42.8ms\n",
      "178:\tlearn: 0.2344221\ttotal: 348ms\tremaining: 40.8ms\n",
      "179:\tlearn: 0.2336586\ttotal: 350ms\tremaining: 38.9ms\n",
      "180:\tlearn: 0.2324155\ttotal: 352ms\tremaining: 36.9ms\n",
      "181:\tlearn: 0.2320248\ttotal: 353ms\tremaining: 34.9ms\n",
      "182:\tlearn: 0.2308435\ttotal: 355ms\tremaining: 33ms\n",
      "183:\tlearn: 0.2295713\ttotal: 357ms\tremaining: 31ms\n",
      "184:\tlearn: 0.2285150\ttotal: 359ms\tremaining: 29.1ms\n",
      "185:\tlearn: 0.2271500\ttotal: 361ms\tremaining: 27.1ms\n",
      "186:\tlearn: 0.2268099\ttotal: 363ms\tremaining: 25.2ms\n",
      "187:\tlearn: 0.2265253\ttotal: 364ms\tremaining: 23.3ms\n",
      "188:\tlearn: 0.2256473\ttotal: 366ms\tremaining: 21.3ms\n",
      "189:\tlearn: 0.2243818\ttotal: 368ms\tremaining: 19.4ms\n",
      "190:\tlearn: 0.2242505\ttotal: 370ms\tremaining: 17.4ms\n",
      "191:\tlearn: 0.2241234\ttotal: 372ms\tremaining: 15.5ms\n",
      "192:\tlearn: 0.2240054\ttotal: 374ms\tremaining: 13.6ms\n",
      "193:\tlearn: 0.2238299\ttotal: 376ms\tremaining: 11.6ms\n",
      "194:\tlearn: 0.2225241\ttotal: 377ms\tremaining: 9.68ms\n",
      "195:\tlearn: 0.2213102\ttotal: 379ms\tremaining: 7.74ms\n",
      "196:\tlearn: 0.2206258\ttotal: 381ms\tremaining: 5.8ms\n",
      "197:\tlearn: 0.2198567\ttotal: 383ms\tremaining: 3.87ms\n",
      "198:\tlearn: 0.2186049\ttotal: 385ms\tremaining: 1.93ms\n",
      "199:\tlearn: 0.2165202\ttotal: 387ms\tremaining: 0us\n",
      "0:\tlearn: 0.6658316\ttotal: 1.93ms\tremaining: 384ms\n",
      "1:\tlearn: 0.6498821\ttotal: 4.05ms\tremaining: 401ms\n",
      "2:\tlearn: 0.6197101\ttotal: 5.99ms\tremaining: 393ms\n",
      "3:\tlearn: 0.6035183\ttotal: 7.92ms\tremaining: 388ms\n",
      "4:\tlearn: 0.5895054\ttotal: 9.87ms\tremaining: 385ms\n",
      "5:\tlearn: 0.5754535\ttotal: 11.6ms\tremaining: 374ms\n",
      "6:\tlearn: 0.5643251\ttotal: 13.5ms\tremaining: 372ms\n",
      "7:\tlearn: 0.5561261\ttotal: 15.5ms\tremaining: 373ms\n",
      "8:\tlearn: 0.5511674\ttotal: 17.4ms\tremaining: 368ms\n",
      "9:\tlearn: 0.5412031\ttotal: 19.2ms\tremaining: 366ms\n",
      "10:\tlearn: 0.5336047\ttotal: 21ms\tremaining: 361ms\n",
      "11:\tlearn: 0.5260984\ttotal: 22.8ms\tremaining: 357ms\n",
      "12:\tlearn: 0.5218507\ttotal: 24.6ms\tremaining: 354ms\n",
      "13:\tlearn: 0.5161808\ttotal: 26.4ms\tremaining: 350ms\n",
      "14:\tlearn: 0.5124849\ttotal: 28.3ms\tremaining: 349ms\n",
      "15:\tlearn: 0.5088852\ttotal: 30.2ms\tremaining: 348ms\n",
      "16:\tlearn: 0.5048768\ttotal: 32ms\tremaining: 345ms\n",
      "17:\tlearn: 0.5020787\ttotal: 33.9ms\tremaining: 343ms\n",
      "18:\tlearn: 0.4989922\ttotal: 35.7ms\tremaining: 340ms\n",
      "19:\tlearn: 0.4947486\ttotal: 37.7ms\tremaining: 339ms\n",
      "20:\tlearn: 0.4917787\ttotal: 39.5ms\tremaining: 337ms\n",
      "21:\tlearn: 0.4878304\ttotal: 41.3ms\tremaining: 334ms\n",
      "22:\tlearn: 0.4843036\ttotal: 43.1ms\tremaining: 332ms\n",
      "23:\tlearn: 0.4829548\ttotal: 45.1ms\tremaining: 330ms\n",
      "24:\tlearn: 0.4788178\ttotal: 46.9ms\tremaining: 328ms\n",
      "25:\tlearn: 0.4768285\ttotal: 48.7ms\tremaining: 326ms\n",
      "26:\tlearn: 0.4726120\ttotal: 50.6ms\tremaining: 324ms\n",
      "27:\tlearn: 0.4690343\ttotal: 52.5ms\tremaining: 322ms\n",
      "28:\tlearn: 0.4664249\ttotal: 54.5ms\tremaining: 321ms\n",
      "29:\tlearn: 0.4626988\ttotal: 56.2ms\tremaining: 318ms\n",
      "30:\tlearn: 0.4582202\ttotal: 58ms\tremaining: 316ms\n",
      "31:\tlearn: 0.4565114\ttotal: 60ms\tremaining: 315ms\n",
      "32:\tlearn: 0.4543062\ttotal: 61.8ms\tremaining: 313ms\n",
      "33:\tlearn: 0.4517018\ttotal: 63.5ms\tremaining: 310ms\n",
      "34:\tlearn: 0.4491650\ttotal: 65.3ms\tremaining: 308ms\n",
      "35:\tlearn: 0.4470425\ttotal: 67.1ms\tremaining: 306ms\n",
      "36:\tlearn: 0.4459460\ttotal: 68.9ms\tremaining: 303ms\n",
      "37:\tlearn: 0.4423347\ttotal: 70.9ms\tremaining: 302ms\n",
      "38:\tlearn: 0.4383732\ttotal: 72.7ms\tremaining: 300ms\n",
      "39:\tlearn: 0.4353061\ttotal: 74.4ms\tremaining: 298ms\n",
      "40:\tlearn: 0.4321037\ttotal: 76.1ms\tremaining: 295ms\n",
      "41:\tlearn: 0.4314101\ttotal: 77.8ms\tremaining: 293ms\n",
      "42:\tlearn: 0.4289189\ttotal: 79.7ms\tremaining: 291ms\n",
      "43:\tlearn: 0.4261311\ttotal: 81.4ms\tremaining: 289ms\n",
      "44:\tlearn: 0.4252295\ttotal: 82.9ms\tremaining: 286ms\n",
      "45:\tlearn: 0.4235791\ttotal: 84.7ms\tremaining: 284ms\n",
      "46:\tlearn: 0.4224712\ttotal: 86.5ms\tremaining: 282ms\n",
      "47:\tlearn: 0.4213591\ttotal: 88.4ms\tremaining: 280ms\n",
      "48:\tlearn: 0.4200309\ttotal: 90.3ms\tremaining: 278ms\n",
      "49:\tlearn: 0.4166649\ttotal: 92.1ms\tremaining: 276ms\n",
      "50:\tlearn: 0.4137168\ttotal: 94ms\tremaining: 275ms\n",
      "51:\tlearn: 0.4124545\ttotal: 95.8ms\tremaining: 273ms\n",
      "52:\tlearn: 0.4114265\ttotal: 98ms\tremaining: 272ms\n",
      "53:\tlearn: 0.4098399\ttotal: 100ms\tremaining: 271ms\n",
      "54:\tlearn: 0.4095094\ttotal: 102ms\tremaining: 269ms\n",
      "55:\tlearn: 0.4064329\ttotal: 104ms\tremaining: 267ms\n",
      "56:\tlearn: 0.4048082\ttotal: 106ms\tremaining: 266ms\n",
      "57:\tlearn: 0.4028419\ttotal: 108ms\tremaining: 264ms\n",
      "58:\tlearn: 0.4012518\ttotal: 110ms\tremaining: 263ms\n",
      "59:\tlearn: 0.3996126\ttotal: 112ms\tremaining: 261ms\n",
      "60:\tlearn: 0.3981939\ttotal: 114ms\tremaining: 259ms\n",
      "61:\tlearn: 0.3945368\ttotal: 115ms\tremaining: 257ms\n",
      "62:\tlearn: 0.3931102\ttotal: 117ms\tremaining: 255ms\n",
      "63:\tlearn: 0.3914318\ttotal: 119ms\tremaining: 253ms\n",
      "64:\tlearn: 0.3884499\ttotal: 121ms\tremaining: 251ms\n",
      "65:\tlearn: 0.3867477\ttotal: 123ms\tremaining: 249ms\n",
      "66:\tlearn: 0.3842742\ttotal: 124ms\tremaining: 247ms\n",
      "67:\tlearn: 0.3804201\ttotal: 126ms\tremaining: 245ms\n",
      "68:\tlearn: 0.3786887\ttotal: 128ms\tremaining: 243ms\n",
      "69:\tlearn: 0.3774845\ttotal: 130ms\tremaining: 241ms\n",
      "70:\tlearn: 0.3758288\ttotal: 132ms\tremaining: 239ms\n",
      "71:\tlearn: 0.3745406\ttotal: 133ms\tremaining: 237ms\n",
      "72:\tlearn: 0.3725411\ttotal: 135ms\tremaining: 236ms\n",
      "73:\tlearn: 0.3712032\ttotal: 137ms\tremaining: 234ms\n",
      "74:\tlearn: 0.3680889\ttotal: 139ms\tremaining: 232ms\n",
      "75:\tlearn: 0.3663680\ttotal: 141ms\tremaining: 230ms\n",
      "76:\tlearn: 0.3650726\ttotal: 143ms\tremaining: 228ms\n",
      "77:\tlearn: 0.3638826\ttotal: 145ms\tremaining: 226ms\n",
      "78:\tlearn: 0.3614212\ttotal: 147ms\tremaining: 225ms\n",
      "79:\tlearn: 0.3610538\ttotal: 148ms\tremaining: 223ms\n",
      "80:\tlearn: 0.3588964\ttotal: 150ms\tremaining: 221ms\n",
      "81:\tlearn: 0.3586208\ttotal: 152ms\tremaining: 218ms\n",
      "82:\tlearn: 0.3558540\ttotal: 154ms\tremaining: 217ms\n",
      "83:\tlearn: 0.3550011\ttotal: 156ms\tremaining: 215ms\n",
      "84:\tlearn: 0.3544952\ttotal: 157ms\tremaining: 213ms\n",
      "85:\tlearn: 0.3540855\ttotal: 159ms\tremaining: 211ms\n",
      "86:\tlearn: 0.3528162\ttotal: 161ms\tremaining: 209ms\n",
      "87:\tlearn: 0.3521728\ttotal: 163ms\tremaining: 208ms\n",
      "88:\tlearn: 0.3492147\ttotal: 165ms\tremaining: 206ms\n",
      "89:\tlearn: 0.3480371\ttotal: 167ms\tremaining: 204ms\n",
      "90:\tlearn: 0.3461663\ttotal: 169ms\tremaining: 202ms\n",
      "91:\tlearn: 0.3443447\ttotal: 171ms\tremaining: 200ms\n",
      "92:\tlearn: 0.3437128\ttotal: 172ms\tremaining: 198ms\n",
      "93:\tlearn: 0.3403728\ttotal: 174ms\tremaining: 197ms\n",
      "94:\tlearn: 0.3382588\ttotal: 176ms\tremaining: 195ms\n",
      "95:\tlearn: 0.3366501\ttotal: 178ms\tremaining: 193ms\n",
      "96:\tlearn: 0.3363780\ttotal: 180ms\tremaining: 191ms\n",
      "97:\tlearn: 0.3344627\ttotal: 181ms\tremaining: 189ms\n",
      "98:\tlearn: 0.3340637\ttotal: 183ms\tremaining: 187ms\n",
      "99:\tlearn: 0.3324366\ttotal: 185ms\tremaining: 185ms\n",
      "100:\tlearn: 0.3321731\ttotal: 186ms\tremaining: 183ms\n",
      "101:\tlearn: 0.3300869\ttotal: 188ms\tremaining: 181ms\n",
      "102:\tlearn: 0.3279987\ttotal: 190ms\tremaining: 179ms\n",
      "103:\tlearn: 0.3261067\ttotal: 191ms\tremaining: 177ms\n",
      "104:\tlearn: 0.3257962\ttotal: 193ms\tremaining: 175ms\n",
      "105:\tlearn: 0.3253760\ttotal: 195ms\tremaining: 172ms\n",
      "106:\tlearn: 0.3240863\ttotal: 196ms\tremaining: 170ms\n",
      "107:\tlearn: 0.3237973\ttotal: 198ms\tremaining: 168ms\n",
      "108:\tlearn: 0.3222437\ttotal: 199ms\tremaining: 166ms\n",
      "109:\tlearn: 0.3198262\ttotal: 201ms\tremaining: 164ms\n",
      "110:\tlearn: 0.3178400\ttotal: 203ms\tremaining: 163ms\n",
      "111:\tlearn: 0.3172792\ttotal: 205ms\tremaining: 161ms\n",
      "112:\tlearn: 0.3158496\ttotal: 206ms\tremaining: 159ms\n",
      "113:\tlearn: 0.3140065\ttotal: 208ms\tremaining: 157ms\n",
      "114:\tlearn: 0.3129810\ttotal: 210ms\tremaining: 155ms\n",
      "115:\tlearn: 0.3112961\ttotal: 213ms\tremaining: 154ms\n",
      "116:\tlearn: 0.3110198\ttotal: 215ms\tremaining: 152ms\n",
      "117:\tlearn: 0.3087879\ttotal: 216ms\tremaining: 150ms\n",
      "118:\tlearn: 0.3086278\ttotal: 218ms\tremaining: 148ms\n",
      "119:\tlearn: 0.3059827\ttotal: 220ms\tremaining: 147ms\n",
      "120:\tlearn: 0.3047233\ttotal: 222ms\tremaining: 145ms\n",
      "121:\tlearn: 0.3036076\ttotal: 224ms\tremaining: 143ms\n",
      "122:\tlearn: 0.3018434\ttotal: 225ms\tremaining: 141ms\n",
      "123:\tlearn: 0.3013875\ttotal: 227ms\tremaining: 139ms\n",
      "124:\tlearn: 0.2995869\ttotal: 229ms\tremaining: 137ms\n",
      "125:\tlearn: 0.2994247\ttotal: 230ms\tremaining: 135ms\n",
      "126:\tlearn: 0.2975564\ttotal: 232ms\tremaining: 133ms\n",
      "127:\tlearn: 0.2962012\ttotal: 234ms\tremaining: 131ms\n",
      "128:\tlearn: 0.2947102\ttotal: 235ms\tremaining: 129ms\n",
      "129:\tlearn: 0.2944678\ttotal: 237ms\tremaining: 128ms\n",
      "130:\tlearn: 0.2941398\ttotal: 239ms\tremaining: 126ms\n",
      "131:\tlearn: 0.2928787\ttotal: 240ms\tremaining: 124ms\n",
      "132:\tlearn: 0.2915489\ttotal: 242ms\tremaining: 122ms\n",
      "133:\tlearn: 0.2909290\ttotal: 244ms\tremaining: 120ms\n",
      "134:\tlearn: 0.2904587\ttotal: 245ms\tremaining: 118ms\n",
      "135:\tlearn: 0.2886704\ttotal: 247ms\tremaining: 116ms\n",
      "136:\tlearn: 0.2873807\ttotal: 249ms\tremaining: 114ms\n",
      "137:\tlearn: 0.2853306\ttotal: 250ms\tremaining: 112ms\n",
      "138:\tlearn: 0.2831863\ttotal: 252ms\tremaining: 111ms\n",
      "139:\tlearn: 0.2824414\ttotal: 254ms\tremaining: 109ms\n",
      "140:\tlearn: 0.2805308\ttotal: 255ms\tremaining: 107ms\n",
      "141:\tlearn: 0.2803898\ttotal: 257ms\tremaining: 105ms\n",
      "142:\tlearn: 0.2787900\ttotal: 259ms\tremaining: 103ms\n",
      "143:\tlearn: 0.2779889\ttotal: 260ms\tremaining: 101ms\n",
      "144:\tlearn: 0.2774085\ttotal: 262ms\tremaining: 99.4ms\n",
      "145:\tlearn: 0.2750629\ttotal: 264ms\tremaining: 97.5ms\n",
      "146:\tlearn: 0.2742617\ttotal: 265ms\tremaining: 95.7ms\n",
      "147:\tlearn: 0.2728956\ttotal: 267ms\tremaining: 93.9ms\n",
      "148:\tlearn: 0.2718707\ttotal: 269ms\tremaining: 92ms\n",
      "149:\tlearn: 0.2696517\ttotal: 271ms\tremaining: 90.2ms\n",
      "150:\tlearn: 0.2676656\ttotal: 272ms\tremaining: 88.3ms\n",
      "151:\tlearn: 0.2651614\ttotal: 274ms\tremaining: 86.5ms\n",
      "152:\tlearn: 0.2643895\ttotal: 276ms\tremaining: 84.6ms\n",
      "153:\tlearn: 0.2624677\ttotal: 277ms\tremaining: 82.8ms\n",
      "154:\tlearn: 0.2615826\ttotal: 279ms\tremaining: 80.9ms\n",
      "155:\tlearn: 0.2602008\ttotal: 280ms\tremaining: 79.1ms\n",
      "156:\tlearn: 0.2587885\ttotal: 282ms\tremaining: 77.3ms\n",
      "157:\tlearn: 0.2581560\ttotal: 284ms\tremaining: 75.5ms\n",
      "158:\tlearn: 0.2568182\ttotal: 286ms\tremaining: 73.7ms\n",
      "159:\tlearn: 0.2566573\ttotal: 288ms\tremaining: 71.9ms\n",
      "160:\tlearn: 0.2563722\ttotal: 290ms\tremaining: 70.2ms\n",
      "161:\tlearn: 0.2548811\ttotal: 291ms\tremaining: 68.4ms\n",
      "162:\tlearn: 0.2531071\ttotal: 293ms\tremaining: 66.6ms\n",
      "163:\tlearn: 0.2522806\ttotal: 295ms\tremaining: 64.8ms\n",
      "164:\tlearn: 0.2521289\ttotal: 297ms\tremaining: 63ms\n",
      "165:\tlearn: 0.2519202\ttotal: 299ms\tremaining: 61.1ms\n",
      "166:\tlearn: 0.2502802\ttotal: 300ms\tremaining: 59.4ms\n",
      "167:\tlearn: 0.2500713\ttotal: 302ms\tremaining: 57.6ms\n",
      "168:\tlearn: 0.2490234\ttotal: 304ms\tremaining: 55.8ms\n",
      "169:\tlearn: 0.2479439\ttotal: 306ms\tremaining: 54ms\n",
      "170:\tlearn: 0.2461483\ttotal: 308ms\tremaining: 52.2ms\n",
      "171:\tlearn: 0.2450775\ttotal: 310ms\tremaining: 50.4ms\n",
      "172:\tlearn: 0.2441711\ttotal: 312ms\tremaining: 48.6ms\n",
      "173:\tlearn: 0.2440332\ttotal: 313ms\tremaining: 46.8ms\n",
      "174:\tlearn: 0.2425871\ttotal: 315ms\tremaining: 45ms\n",
      "175:\tlearn: 0.2414330\ttotal: 317ms\tremaining: 43.2ms\n",
      "176:\tlearn: 0.2408975\ttotal: 318ms\tremaining: 41.3ms\n",
      "177:\tlearn: 0.2399968\ttotal: 320ms\tremaining: 39.5ms\n",
      "178:\tlearn: 0.2391124\ttotal: 322ms\tremaining: 37.7ms\n",
      "179:\tlearn: 0.2389834\ttotal: 323ms\tremaining: 35.9ms\n",
      "180:\tlearn: 0.2374259\ttotal: 325ms\tremaining: 34.1ms\n",
      "181:\tlearn: 0.2360452\ttotal: 327ms\tremaining: 32.3ms\n",
      "182:\tlearn: 0.2354162\ttotal: 328ms\tremaining: 30.5ms\n",
      "183:\tlearn: 0.2342384\ttotal: 330ms\tremaining: 28.7ms\n",
      "184:\tlearn: 0.2338978\ttotal: 332ms\tremaining: 26.9ms\n",
      "185:\tlearn: 0.2326036\ttotal: 333ms\tremaining: 25.1ms\n",
      "186:\tlearn: 0.2324713\ttotal: 335ms\tremaining: 23.3ms\n",
      "187:\tlearn: 0.2323171\ttotal: 336ms\tremaining: 21.5ms\n",
      "188:\tlearn: 0.2313162\ttotal: 338ms\tremaining: 19.7ms\n",
      "189:\tlearn: 0.2302175\ttotal: 340ms\tremaining: 17.9ms\n",
      "190:\tlearn: 0.2295838\ttotal: 341ms\tremaining: 16.1ms\n",
      "191:\tlearn: 0.2288836\ttotal: 343ms\tremaining: 14.3ms\n",
      "192:\tlearn: 0.2287401\ttotal: 344ms\tremaining: 12.5ms\n",
      "193:\tlearn: 0.2273612\ttotal: 346ms\tremaining: 10.7ms\n",
      "194:\tlearn: 0.2264296\ttotal: 348ms\tremaining: 8.92ms\n",
      "195:\tlearn: 0.2259786\ttotal: 349ms\tremaining: 7.13ms\n",
      "196:\tlearn: 0.2252770\ttotal: 351ms\tremaining: 5.34ms\n",
      "197:\tlearn: 0.2240264\ttotal: 353ms\tremaining: 3.56ms\n",
      "198:\tlearn: 0.2233536\ttotal: 354ms\tremaining: 1.78ms\n",
      "199:\tlearn: 0.2223790\ttotal: 356ms\tremaining: 0us\n",
      "0:\tlearn: 0.6612432\ttotal: 2.17ms\tremaining: 431ms\n",
      "1:\tlearn: 0.6355608\ttotal: 4.14ms\tremaining: 410ms\n",
      "2:\tlearn: 0.6196702\ttotal: 5.93ms\tremaining: 390ms\n",
      "3:\tlearn: 0.6049532\ttotal: 7.8ms\tremaining: 382ms\n",
      "4:\tlearn: 0.5892920\ttotal: 9.66ms\tremaining: 377ms\n",
      "5:\tlearn: 0.5737228\ttotal: 11.5ms\tremaining: 371ms\n",
      "6:\tlearn: 0.5649996\ttotal: 13.2ms\tremaining: 363ms\n",
      "7:\tlearn: 0.5509681\ttotal: 14.9ms\tremaining: 357ms\n",
      "8:\tlearn: 0.5406188\ttotal: 16.6ms\tremaining: 352ms\n",
      "9:\tlearn: 0.5343377\ttotal: 18.3ms\tremaining: 347ms\n",
      "10:\tlearn: 0.5262306\ttotal: 20ms\tremaining: 344ms\n",
      "11:\tlearn: 0.5174743\ttotal: 21.7ms\tremaining: 341ms\n",
      "12:\tlearn: 0.5092873\ttotal: 23.5ms\tremaining: 339ms\n",
      "13:\tlearn: 0.5018592\ttotal: 25.3ms\tremaining: 337ms\n",
      "14:\tlearn: 0.4942232\ttotal: 27.1ms\tremaining: 334ms\n",
      "15:\tlearn: 0.4870239\ttotal: 28.8ms\tremaining: 332ms\n",
      "16:\tlearn: 0.4808777\ttotal: 30.5ms\tremaining: 329ms\n",
      "17:\tlearn: 0.4771442\ttotal: 32.3ms\tremaining: 326ms\n",
      "18:\tlearn: 0.4728521\ttotal: 34.1ms\tremaining: 325ms\n",
      "19:\tlearn: 0.4696606\ttotal: 35.8ms\tremaining: 322ms\n",
      "20:\tlearn: 0.4674329\ttotal: 37.5ms\tremaining: 320ms\n",
      "21:\tlearn: 0.4631189\ttotal: 39.3ms\tremaining: 318ms\n",
      "22:\tlearn: 0.4584848\ttotal: 41.1ms\tremaining: 316ms\n",
      "23:\tlearn: 0.4551708\ttotal: 42.9ms\tremaining: 315ms\n",
      "24:\tlearn: 0.4526296\ttotal: 44.7ms\tremaining: 313ms\n",
      "25:\tlearn: 0.4476435\ttotal: 46.4ms\tremaining: 310ms\n",
      "26:\tlearn: 0.4448170\ttotal: 48ms\tremaining: 308ms\n",
      "27:\tlearn: 0.4436991\ttotal: 49.8ms\tremaining: 306ms\n",
      "28:\tlearn: 0.4400382\ttotal: 51.5ms\tremaining: 304ms\n",
      "29:\tlearn: 0.4365370\ttotal: 53.2ms\tremaining: 302ms\n",
      "30:\tlearn: 0.4338463\ttotal: 55ms\tremaining: 300ms\n",
      "31:\tlearn: 0.4333383\ttotal: 56.1ms\tremaining: 294ms\n",
      "32:\tlearn: 0.4310365\ttotal: 57.8ms\tremaining: 292ms\n",
      "33:\tlearn: 0.4290982\ttotal: 59.5ms\tremaining: 291ms\n",
      "34:\tlearn: 0.4270083\ttotal: 61.4ms\tremaining: 290ms\n",
      "35:\tlearn: 0.4242332\ttotal: 63.1ms\tremaining: 288ms\n",
      "36:\tlearn: 0.4229937\ttotal: 64.9ms\tremaining: 286ms\n",
      "37:\tlearn: 0.4212980\ttotal: 66.6ms\tremaining: 284ms\n",
      "38:\tlearn: 0.4177887\ttotal: 68.4ms\tremaining: 282ms\n",
      "39:\tlearn: 0.4144621\ttotal: 70.1ms\tremaining: 280ms\n",
      "40:\tlearn: 0.4133928\ttotal: 71.8ms\tremaining: 279ms\n",
      "41:\tlearn: 0.4112070\ttotal: 73.7ms\tremaining: 277ms\n",
      "42:\tlearn: 0.4094335\ttotal: 75.5ms\tremaining: 275ms\n",
      "43:\tlearn: 0.4082997\ttotal: 77.4ms\tremaining: 274ms\n",
      "44:\tlearn: 0.4067540\ttotal: 79.2ms\tremaining: 273ms\n",
      "45:\tlearn: 0.4039147\ttotal: 81ms\tremaining: 271ms\n",
      "46:\tlearn: 0.4012838\ttotal: 82.8ms\tremaining: 270ms\n",
      "47:\tlearn: 0.3987738\ttotal: 84.6ms\tremaining: 268ms\n",
      "48:\tlearn: 0.3961517\ttotal: 86.3ms\tremaining: 266ms\n",
      "49:\tlearn: 0.3940778\ttotal: 88.1ms\tremaining: 264ms\n",
      "50:\tlearn: 0.3923371\ttotal: 89.9ms\tremaining: 263ms\n",
      "51:\tlearn: 0.3893632\ttotal: 91.6ms\tremaining: 261ms\n",
      "52:\tlearn: 0.3868066\ttotal: 93.4ms\tremaining: 259ms\n",
      "53:\tlearn: 0.3843509\ttotal: 95.1ms\tremaining: 257ms\n",
      "54:\tlearn: 0.3826557\ttotal: 97ms\tremaining: 256ms\n",
      "55:\tlearn: 0.3806338\ttotal: 98.7ms\tremaining: 254ms\n",
      "56:\tlearn: 0.3771710\ttotal: 101ms\tremaining: 252ms\n",
      "57:\tlearn: 0.3749642\ttotal: 102ms\tremaining: 251ms\n",
      "58:\tlearn: 0.3713696\ttotal: 104ms\tremaining: 249ms\n",
      "59:\tlearn: 0.3700986\ttotal: 106ms\tremaining: 247ms\n",
      "60:\tlearn: 0.3681183\ttotal: 108ms\tremaining: 245ms\n",
      "61:\tlearn: 0.3662030\ttotal: 109ms\tremaining: 244ms\n",
      "62:\tlearn: 0.3651310\ttotal: 111ms\tremaining: 242ms\n",
      "63:\tlearn: 0.3636298\ttotal: 113ms\tremaining: 240ms\n",
      "64:\tlearn: 0.3598821\ttotal: 115ms\tremaining: 238ms\n",
      "65:\tlearn: 0.3582644\ttotal: 116ms\tremaining: 236ms\n",
      "66:\tlearn: 0.3571465\ttotal: 118ms\tremaining: 234ms\n",
      "67:\tlearn: 0.3563584\ttotal: 120ms\tremaining: 233ms\n",
      "68:\tlearn: 0.3542775\ttotal: 122ms\tremaining: 231ms\n",
      "69:\tlearn: 0.3520855\ttotal: 123ms\tremaining: 229ms\n",
      "70:\tlearn: 0.3509962\ttotal: 125ms\tremaining: 227ms\n",
      "71:\tlearn: 0.3502407\ttotal: 127ms\tremaining: 226ms\n",
      "72:\tlearn: 0.3490667\ttotal: 129ms\tremaining: 224ms\n",
      "73:\tlearn: 0.3462749\ttotal: 130ms\tremaining: 222ms\n",
      "74:\tlearn: 0.3454592\ttotal: 132ms\tremaining: 220ms\n",
      "75:\tlearn: 0.3438384\ttotal: 134ms\tremaining: 218ms\n",
      "76:\tlearn: 0.3425092\ttotal: 136ms\tremaining: 217ms\n",
      "77:\tlearn: 0.3420673\ttotal: 137ms\tremaining: 215ms\n",
      "78:\tlearn: 0.3400829\ttotal: 139ms\tremaining: 213ms\n",
      "79:\tlearn: 0.3375072\ttotal: 141ms\tremaining: 211ms\n",
      "80:\tlearn: 0.3363397\ttotal: 143ms\tremaining: 210ms\n",
      "81:\tlearn: 0.3346028\ttotal: 145ms\tremaining: 208ms\n",
      "82:\tlearn: 0.3333915\ttotal: 146ms\tremaining: 207ms\n",
      "83:\tlearn: 0.3322411\ttotal: 148ms\tremaining: 205ms\n",
      "84:\tlearn: 0.3303359\ttotal: 150ms\tremaining: 203ms\n",
      "85:\tlearn: 0.3285124\ttotal: 152ms\tremaining: 202ms\n",
      "86:\tlearn: 0.3272206\ttotal: 154ms\tremaining: 200ms\n",
      "87:\tlearn: 0.3265757\ttotal: 156ms\tremaining: 199ms\n",
      "88:\tlearn: 0.3257134\ttotal: 158ms\tremaining: 197ms\n",
      "89:\tlearn: 0.3241845\ttotal: 160ms\tremaining: 196ms\n",
      "90:\tlearn: 0.3232572\ttotal: 162ms\tremaining: 194ms\n",
      "91:\tlearn: 0.3228633\ttotal: 164ms\tremaining: 192ms\n",
      "92:\tlearn: 0.3212695\ttotal: 166ms\tremaining: 191ms\n",
      "93:\tlearn: 0.3209149\ttotal: 168ms\tremaining: 189ms\n",
      "94:\tlearn: 0.3206076\ttotal: 170ms\tremaining: 187ms\n",
      "95:\tlearn: 0.3201115\ttotal: 171ms\tremaining: 186ms\n",
      "96:\tlearn: 0.3182952\ttotal: 173ms\tremaining: 184ms\n",
      "97:\tlearn: 0.3170775\ttotal: 175ms\tremaining: 182ms\n",
      "98:\tlearn: 0.3151053\ttotal: 177ms\tremaining: 180ms\n",
      "99:\tlearn: 0.3144406\ttotal: 179ms\tremaining: 179ms\n",
      "100:\tlearn: 0.3138717\ttotal: 181ms\tremaining: 177ms\n",
      "101:\tlearn: 0.3136159\ttotal: 182ms\tremaining: 175ms\n",
      "102:\tlearn: 0.3133871\ttotal: 184ms\tremaining: 174ms\n",
      "103:\tlearn: 0.3124304\ttotal: 186ms\tremaining: 172ms\n",
      "104:\tlearn: 0.3099209\ttotal: 188ms\tremaining: 170ms\n",
      "105:\tlearn: 0.3091774\ttotal: 190ms\tremaining: 169ms\n",
      "106:\tlearn: 0.3077747\ttotal: 192ms\tremaining: 167ms\n",
      "107:\tlearn: 0.3055104\ttotal: 194ms\tremaining: 165ms\n",
      "108:\tlearn: 0.3052360\ttotal: 196ms\tremaining: 164ms\n",
      "109:\tlearn: 0.3048674\ttotal: 198ms\tremaining: 162ms\n",
      "110:\tlearn: 0.3029173\ttotal: 200ms\tremaining: 161ms\n",
      "111:\tlearn: 0.3006725\ttotal: 202ms\tremaining: 159ms\n",
      "112:\tlearn: 0.3004827\ttotal: 204ms\tremaining: 157ms\n",
      "113:\tlearn: 0.2993235\ttotal: 206ms\tremaining: 155ms\n",
      "114:\tlearn: 0.2973533\ttotal: 208ms\tremaining: 154ms\n",
      "115:\tlearn: 0.2957675\ttotal: 210ms\tremaining: 152ms\n",
      "116:\tlearn: 0.2940689\ttotal: 211ms\tremaining: 150ms\n",
      "117:\tlearn: 0.2924819\ttotal: 213ms\tremaining: 148ms\n",
      "118:\tlearn: 0.2920878\ttotal: 215ms\tremaining: 146ms\n",
      "119:\tlearn: 0.2918892\ttotal: 216ms\tremaining: 144ms\n",
      "120:\tlearn: 0.2898706\ttotal: 218ms\tremaining: 142ms\n",
      "121:\tlearn: 0.2894822\ttotal: 220ms\tremaining: 141ms\n",
      "122:\tlearn: 0.2891690\ttotal: 221ms\tremaining: 139ms\n",
      "123:\tlearn: 0.2877286\ttotal: 223ms\tremaining: 137ms\n",
      "124:\tlearn: 0.2875589\ttotal: 225ms\tremaining: 135ms\n",
      "125:\tlearn: 0.2863481\ttotal: 227ms\tremaining: 133ms\n",
      "126:\tlearn: 0.2843582\ttotal: 228ms\tremaining: 131ms\n",
      "127:\tlearn: 0.2836963\ttotal: 230ms\tremaining: 129ms\n",
      "128:\tlearn: 0.2829274\ttotal: 232ms\tremaining: 128ms\n",
      "129:\tlearn: 0.2824702\ttotal: 233ms\tremaining: 126ms\n",
      "130:\tlearn: 0.2820891\ttotal: 235ms\tremaining: 124ms\n",
      "131:\tlearn: 0.2818992\ttotal: 237ms\tremaining: 122ms\n",
      "132:\tlearn: 0.2817084\ttotal: 239ms\tremaining: 120ms\n",
      "133:\tlearn: 0.2796569\ttotal: 241ms\tremaining: 118ms\n",
      "134:\tlearn: 0.2794772\ttotal: 242ms\tremaining: 117ms\n",
      "135:\tlearn: 0.2793056\ttotal: 244ms\tremaining: 115ms\n",
      "136:\tlearn: 0.2773882\ttotal: 246ms\tremaining: 113ms\n",
      "137:\tlearn: 0.2758704\ttotal: 248ms\tremaining: 111ms\n",
      "138:\tlearn: 0.2738953\ttotal: 250ms\tremaining: 110ms\n",
      "139:\tlearn: 0.2735829\ttotal: 252ms\tremaining: 108ms\n",
      "140:\tlearn: 0.2713854\ttotal: 254ms\tremaining: 106ms\n",
      "141:\tlearn: 0.2707174\ttotal: 255ms\tremaining: 104ms\n",
      "142:\tlearn: 0.2692969\ttotal: 257ms\tremaining: 102ms\n",
      "143:\tlearn: 0.2689945\ttotal: 259ms\tremaining: 101ms\n",
      "144:\tlearn: 0.2687481\ttotal: 260ms\tremaining: 98.8ms\n",
      "145:\tlearn: 0.2674541\ttotal: 262ms\tremaining: 96.9ms\n",
      "146:\tlearn: 0.2657710\ttotal: 264ms\tremaining: 95.1ms\n",
      "147:\tlearn: 0.2655877\ttotal: 265ms\tremaining: 93.3ms\n",
      "148:\tlearn: 0.2649181\ttotal: 267ms\tremaining: 91.4ms\n",
      "149:\tlearn: 0.2638958\ttotal: 269ms\tremaining: 89.6ms\n",
      "150:\tlearn: 0.2629374\ttotal: 271ms\tremaining: 87.9ms\n",
      "151:\tlearn: 0.2627688\ttotal: 273ms\tremaining: 86.1ms\n",
      "152:\tlearn: 0.2612338\ttotal: 274ms\tremaining: 84.3ms\n",
      "153:\tlearn: 0.2590660\ttotal: 276ms\tremaining: 82.5ms\n",
      "154:\tlearn: 0.2568670\ttotal: 278ms\tremaining: 80.6ms\n",
      "155:\tlearn: 0.2547978\ttotal: 279ms\tremaining: 78.8ms\n",
      "156:\tlearn: 0.2536949\ttotal: 281ms\tremaining: 77ms\n",
      "157:\tlearn: 0.2525197\ttotal: 283ms\tremaining: 75.2ms\n",
      "158:\tlearn: 0.2523939\ttotal: 284ms\tremaining: 73.4ms\n",
      "159:\tlearn: 0.2510871\ttotal: 286ms\tremaining: 71.5ms\n",
      "160:\tlearn: 0.2497777\ttotal: 288ms\tremaining: 69.7ms\n",
      "161:\tlearn: 0.2495034\ttotal: 290ms\tremaining: 67.9ms\n",
      "162:\tlearn: 0.2479297\ttotal: 291ms\tremaining: 66.1ms\n",
      "163:\tlearn: 0.2463147\ttotal: 293ms\tremaining: 64.3ms\n",
      "164:\tlearn: 0.2447777\ttotal: 295ms\tremaining: 62.5ms\n",
      "165:\tlearn: 0.2441809\ttotal: 296ms\tremaining: 60.7ms\n",
      "166:\tlearn: 0.2429955\ttotal: 298ms\tremaining: 58.9ms\n",
      "167:\tlearn: 0.2422337\ttotal: 300ms\tremaining: 57.1ms\n",
      "168:\tlearn: 0.2414094\ttotal: 301ms\tremaining: 55.3ms\n",
      "169:\tlearn: 0.2401560\ttotal: 303ms\tremaining: 53.5ms\n",
      "170:\tlearn: 0.2400313\ttotal: 305ms\tremaining: 51.7ms\n",
      "171:\tlearn: 0.2387371\ttotal: 307ms\tremaining: 49.9ms\n",
      "172:\tlearn: 0.2377297\ttotal: 308ms\tremaining: 48.1ms\n",
      "173:\tlearn: 0.2376151\ttotal: 310ms\tremaining: 46.3ms\n",
      "174:\tlearn: 0.2373722\ttotal: 312ms\tremaining: 44.5ms\n",
      "175:\tlearn: 0.2360591\ttotal: 313ms\tremaining: 42.7ms\n",
      "176:\tlearn: 0.2359081\ttotal: 315ms\tremaining: 40.9ms\n",
      "177:\tlearn: 0.2357754\ttotal: 317ms\tremaining: 39.1ms\n",
      "178:\tlearn: 0.2347277\ttotal: 318ms\tremaining: 37.3ms\n",
      "179:\tlearn: 0.2327128\ttotal: 320ms\tremaining: 35.6ms\n",
      "180:\tlearn: 0.2324807\ttotal: 322ms\tremaining: 33.8ms\n",
      "181:\tlearn: 0.2322729\ttotal: 323ms\tremaining: 32ms\n",
      "182:\tlearn: 0.2301642\ttotal: 325ms\tremaining: 30.2ms\n",
      "183:\tlearn: 0.2284550\ttotal: 327ms\tremaining: 28.4ms\n",
      "184:\tlearn: 0.2282943\ttotal: 328ms\tremaining: 26.6ms\n",
      "185:\tlearn: 0.2279069\ttotal: 330ms\tremaining: 24.8ms\n",
      "186:\tlearn: 0.2277962\ttotal: 332ms\tremaining: 23.1ms\n",
      "187:\tlearn: 0.2276575\ttotal: 334ms\tremaining: 21.3ms\n",
      "188:\tlearn: 0.2263118\ttotal: 335ms\tremaining: 19.5ms\n",
      "189:\tlearn: 0.2260210\ttotal: 337ms\tremaining: 17.8ms\n",
      "190:\tlearn: 0.2253056\ttotal: 340ms\tremaining: 16ms\n",
      "191:\tlearn: 0.2251964\ttotal: 342ms\tremaining: 14.2ms\n",
      "192:\tlearn: 0.2249922\ttotal: 343ms\tremaining: 12.4ms\n",
      "193:\tlearn: 0.2248588\ttotal: 345ms\tremaining: 10.7ms\n",
      "194:\tlearn: 0.2236058\ttotal: 347ms\tremaining: 8.9ms\n",
      "195:\tlearn: 0.2223708\ttotal: 349ms\tremaining: 7.12ms\n",
      "196:\tlearn: 0.2218579\ttotal: 351ms\tremaining: 5.34ms\n",
      "197:\tlearn: 0.2217595\ttotal: 352ms\tremaining: 3.56ms\n",
      "198:\tlearn: 0.2215924\ttotal: 354ms\tremaining: 1.78ms\n",
      "199:\tlearn: 0.2189135\ttotal: 356ms\tremaining: 0us\n",
      "0:\tlearn: 0.6632876\ttotal: 2.24ms\tremaining: 446ms\n",
      "1:\tlearn: 0.6387887\ttotal: 4.67ms\tremaining: 462ms\n",
      "2:\tlearn: 0.6174378\ttotal: 6.73ms\tremaining: 442ms\n",
      "3:\tlearn: 0.5978383\ttotal: 8.93ms\tremaining: 438ms\n",
      "4:\tlearn: 0.5816048\ttotal: 11ms\tremaining: 430ms\n",
      "5:\tlearn: 0.5751259\ttotal: 12.4ms\tremaining: 400ms\n",
      "6:\tlearn: 0.5636067\ttotal: 14ms\tremaining: 387ms\n",
      "7:\tlearn: 0.5496791\ttotal: 16.1ms\tremaining: 386ms\n",
      "8:\tlearn: 0.5392720\ttotal: 18.2ms\tremaining: 386ms\n",
      "9:\tlearn: 0.5329182\ttotal: 20.2ms\tremaining: 384ms\n",
      "10:\tlearn: 0.5260067\ttotal: 22.3ms\tremaining: 382ms\n",
      "11:\tlearn: 0.5175891\ttotal: 24.4ms\tremaining: 382ms\n",
      "12:\tlearn: 0.5104906\ttotal: 26.4ms\tremaining: 380ms\n",
      "13:\tlearn: 0.5058844\ttotal: 28.5ms\tremaining: 378ms\n",
      "14:\tlearn: 0.5002036\ttotal: 30.5ms\tremaining: 376ms\n",
      "15:\tlearn: 0.4971494\ttotal: 32.2ms\tremaining: 370ms\n",
      "16:\tlearn: 0.4932927\ttotal: 34.2ms\tremaining: 368ms\n",
      "17:\tlearn: 0.4876594\ttotal: 36.2ms\tremaining: 366ms\n",
      "18:\tlearn: 0.4844095\ttotal: 38.3ms\tremaining: 364ms\n",
      "19:\tlearn: 0.4814110\ttotal: 40.4ms\tremaining: 363ms\n",
      "20:\tlearn: 0.4774941\ttotal: 42.5ms\tremaining: 362ms\n",
      "21:\tlearn: 0.4737234\ttotal: 44.5ms\tremaining: 360ms\n",
      "22:\tlearn: 0.4728185\ttotal: 45.9ms\tremaining: 353ms\n",
      "23:\tlearn: 0.4709930\ttotal: 48ms\tremaining: 352ms\n",
      "24:\tlearn: 0.4684262\ttotal: 50ms\tremaining: 350ms\n",
      "25:\tlearn: 0.4632095\ttotal: 52.1ms\tremaining: 349ms\n",
      "26:\tlearn: 0.4595681\ttotal: 54.2ms\tremaining: 347ms\n",
      "27:\tlearn: 0.4559559\ttotal: 56.2ms\tremaining: 345ms\n",
      "28:\tlearn: 0.4535453\ttotal: 58.1ms\tremaining: 343ms\n",
      "29:\tlearn: 0.4482711\ttotal: 60ms\tremaining: 340ms\n",
      "30:\tlearn: 0.4459927\ttotal: 61.9ms\tremaining: 338ms\n",
      "31:\tlearn: 0.4425918\ttotal: 63.8ms\tremaining: 335ms\n",
      "32:\tlearn: 0.4400952\ttotal: 65.7ms\tremaining: 332ms\n",
      "33:\tlearn: 0.4378329\ttotal: 67.5ms\tremaining: 330ms\n",
      "34:\tlearn: 0.4369549\ttotal: 69.4ms\tremaining: 327ms\n",
      "35:\tlearn: 0.4335835\ttotal: 71.3ms\tremaining: 325ms\n",
      "36:\tlearn: 0.4307329\ttotal: 73.1ms\tremaining: 322ms\n",
      "37:\tlearn: 0.4283766\ttotal: 75.1ms\tremaining: 320ms\n",
      "38:\tlearn: 0.4271898\ttotal: 77.1ms\tremaining: 318ms\n",
      "39:\tlearn: 0.4256599\ttotal: 79ms\tremaining: 316ms\n",
      "40:\tlearn: 0.4231234\ttotal: 80.9ms\tremaining: 314ms\n",
      "41:\tlearn: 0.4217925\ttotal: 82.7ms\tremaining: 311ms\n",
      "42:\tlearn: 0.4185282\ttotal: 84.6ms\tremaining: 309ms\n",
      "43:\tlearn: 0.4160426\ttotal: 86.4ms\tremaining: 306ms\n",
      "44:\tlearn: 0.4140006\ttotal: 88.2ms\tremaining: 304ms\n",
      "45:\tlearn: 0.4125746\ttotal: 90.1ms\tremaining: 302ms\n",
      "46:\tlearn: 0.4105571\ttotal: 92ms\tremaining: 300ms\n",
      "47:\tlearn: 0.4082999\ttotal: 94ms\tremaining: 298ms\n",
      "48:\tlearn: 0.4072824\ttotal: 96.1ms\tremaining: 296ms\n",
      "49:\tlearn: 0.4052577\ttotal: 98.1ms\tremaining: 294ms\n",
      "50:\tlearn: 0.4046713\ttotal: 100ms\tremaining: 292ms\n",
      "51:\tlearn: 0.4025648\ttotal: 102ms\tremaining: 290ms\n",
      "52:\tlearn: 0.4016836\ttotal: 104ms\tremaining: 288ms\n",
      "53:\tlearn: 0.3984216\ttotal: 106ms\tremaining: 286ms\n",
      "54:\tlearn: 0.3966354\ttotal: 108ms\tremaining: 284ms\n",
      "55:\tlearn: 0.3931641\ttotal: 110ms\tremaining: 282ms\n",
      "56:\tlearn: 0.3909397\ttotal: 112ms\tremaining: 281ms\n",
      "57:\tlearn: 0.3884792\ttotal: 114ms\tremaining: 279ms\n",
      "58:\tlearn: 0.3869405\ttotal: 116ms\tremaining: 277ms\n",
      "59:\tlearn: 0.3847462\ttotal: 118ms\tremaining: 275ms\n",
      "60:\tlearn: 0.3837084\ttotal: 120ms\tremaining: 274ms\n",
      "61:\tlearn: 0.3825625\ttotal: 122ms\tremaining: 272ms\n",
      "62:\tlearn: 0.3813728\ttotal: 124ms\tremaining: 271ms\n",
      "63:\tlearn: 0.3789973\ttotal: 126ms\tremaining: 268ms\n",
      "64:\tlearn: 0.3759470\ttotal: 128ms\tremaining: 267ms\n",
      "65:\tlearn: 0.3737786\ttotal: 130ms\tremaining: 264ms\n",
      "66:\tlearn: 0.3733194\ttotal: 132ms\tremaining: 262ms\n",
      "67:\tlearn: 0.3719414\ttotal: 134ms\tremaining: 260ms\n",
      "68:\tlearn: 0.3704470\ttotal: 136ms\tremaining: 259ms\n",
      "69:\tlearn: 0.3694545\ttotal: 138ms\tremaining: 257ms\n",
      "70:\tlearn: 0.3680977\ttotal: 141ms\tremaining: 256ms\n",
      "71:\tlearn: 0.3654867\ttotal: 143ms\tremaining: 254ms\n",
      "72:\tlearn: 0.3641322\ttotal: 145ms\tremaining: 252ms\n",
      "73:\tlearn: 0.3632191\ttotal: 147ms\tremaining: 251ms\n",
      "74:\tlearn: 0.3615695\ttotal: 149ms\tremaining: 249ms\n",
      "75:\tlearn: 0.3597419\ttotal: 152ms\tremaining: 248ms\n",
      "76:\tlearn: 0.3588978\ttotal: 154ms\tremaining: 246ms\n",
      "77:\tlearn: 0.3569740\ttotal: 157ms\tremaining: 245ms\n",
      "78:\tlearn: 0.3541477\ttotal: 159ms\tremaining: 244ms\n",
      "79:\tlearn: 0.3529025\ttotal: 162ms\tremaining: 242ms\n",
      "80:\tlearn: 0.3504254\ttotal: 164ms\tremaining: 241ms\n",
      "81:\tlearn: 0.3498456\ttotal: 167ms\tremaining: 240ms\n",
      "82:\tlearn: 0.3475687\ttotal: 170ms\tremaining: 239ms\n",
      "83:\tlearn: 0.3463895\ttotal: 172ms\tremaining: 237ms\n",
      "84:\tlearn: 0.3444942\ttotal: 174ms\tremaining: 236ms\n",
      "85:\tlearn: 0.3435772\ttotal: 177ms\tremaining: 234ms\n",
      "86:\tlearn: 0.3418539\ttotal: 179ms\tremaining: 233ms\n",
      "87:\tlearn: 0.3413707\ttotal: 181ms\tremaining: 231ms\n",
      "88:\tlearn: 0.3399785\ttotal: 183ms\tremaining: 229ms\n",
      "89:\tlearn: 0.3379008\ttotal: 186ms\tremaining: 227ms\n",
      "90:\tlearn: 0.3375358\ttotal: 188ms\tremaining: 225ms\n",
      "91:\tlearn: 0.3363080\ttotal: 191ms\tremaining: 224ms\n",
      "92:\tlearn: 0.3355379\ttotal: 193ms\tremaining: 222ms\n",
      "93:\tlearn: 0.3331670\ttotal: 196ms\tremaining: 221ms\n",
      "94:\tlearn: 0.3326482\ttotal: 198ms\tremaining: 219ms\n",
      "95:\tlearn: 0.3323431\ttotal: 201ms\tremaining: 218ms\n",
      "96:\tlearn: 0.3320525\ttotal: 204ms\tremaining: 217ms\n",
      "97:\tlearn: 0.3316387\ttotal: 221ms\tremaining: 230ms\n",
      "98:\tlearn: 0.3295809\ttotal: 223ms\tremaining: 228ms\n",
      "99:\tlearn: 0.3268707\ttotal: 226ms\tremaining: 226ms\n",
      "100:\tlearn: 0.3236189\ttotal: 228ms\tremaining: 224ms\n",
      "101:\tlearn: 0.3218507\ttotal: 232ms\tremaining: 222ms\n",
      "102:\tlearn: 0.3202519\ttotal: 234ms\tremaining: 221ms\n",
      "103:\tlearn: 0.3194886\ttotal: 236ms\tremaining: 218ms\n",
      "104:\tlearn: 0.3192487\ttotal: 239ms\tremaining: 216ms\n",
      "105:\tlearn: 0.3189051\ttotal: 241ms\tremaining: 214ms\n",
      "106:\tlearn: 0.3184157\ttotal: 244ms\tremaining: 212ms\n",
      "107:\tlearn: 0.3181165\ttotal: 246ms\tremaining: 209ms\n",
      "108:\tlearn: 0.3161445\ttotal: 248ms\tremaining: 207ms\n",
      "109:\tlearn: 0.3140990\ttotal: 250ms\tremaining: 205ms\n",
      "110:\tlearn: 0.3125344\ttotal: 253ms\tremaining: 202ms\n",
      "111:\tlearn: 0.3111287\ttotal: 255ms\tremaining: 200ms\n",
      "112:\tlearn: 0.3093889\ttotal: 257ms\tremaining: 198ms\n",
      "113:\tlearn: 0.3076756\ttotal: 259ms\tremaining: 196ms\n",
      "114:\tlearn: 0.3053940\ttotal: 262ms\tremaining: 194ms\n",
      "115:\tlearn: 0.3050910\ttotal: 264ms\tremaining: 191ms\n",
      "116:\tlearn: 0.3048634\ttotal: 266ms\tremaining: 189ms\n",
      "117:\tlearn: 0.3034318\ttotal: 269ms\tremaining: 187ms\n",
      "118:\tlearn: 0.3024594\ttotal: 271ms\tremaining: 184ms\n",
      "119:\tlearn: 0.3004808\ttotal: 273ms\tremaining: 182ms\n",
      "120:\tlearn: 0.3000896\ttotal: 276ms\tremaining: 180ms\n",
      "121:\tlearn: 0.2994224\ttotal: 278ms\tremaining: 178ms\n",
      "122:\tlearn: 0.2990671\ttotal: 280ms\tremaining: 176ms\n",
      "123:\tlearn: 0.2982773\ttotal: 283ms\tremaining: 173ms\n",
      "124:\tlearn: 0.2966771\ttotal: 285ms\tremaining: 171ms\n",
      "125:\tlearn: 0.2946322\ttotal: 287ms\tremaining: 169ms\n",
      "126:\tlearn: 0.2930919\ttotal: 289ms\tremaining: 166ms\n",
      "127:\tlearn: 0.2917997\ttotal: 292ms\tremaining: 164ms\n",
      "128:\tlearn: 0.2906784\ttotal: 294ms\tremaining: 162ms\n",
      "129:\tlearn: 0.2901581\ttotal: 296ms\tremaining: 159ms\n",
      "130:\tlearn: 0.2869538\ttotal: 298ms\tremaining: 157ms\n",
      "131:\tlearn: 0.2852940\ttotal: 300ms\tremaining: 155ms\n",
      "132:\tlearn: 0.2835316\ttotal: 302ms\tremaining: 152ms\n",
      "133:\tlearn: 0.2827812\ttotal: 304ms\tremaining: 150ms\n",
      "134:\tlearn: 0.2817320\ttotal: 306ms\tremaining: 148ms\n",
      "135:\tlearn: 0.2803391\ttotal: 309ms\tremaining: 145ms\n",
      "136:\tlearn: 0.2790401\ttotal: 311ms\tremaining: 143ms\n",
      "137:\tlearn: 0.2786694\ttotal: 313ms\tremaining: 141ms\n",
      "138:\tlearn: 0.2764337\ttotal: 315ms\tremaining: 138ms\n",
      "139:\tlearn: 0.2762251\ttotal: 317ms\tremaining: 136ms\n",
      "140:\tlearn: 0.2735152\ttotal: 319ms\tremaining: 133ms\n",
      "141:\tlearn: 0.2724677\ttotal: 321ms\tremaining: 131ms\n",
      "142:\tlearn: 0.2708883\ttotal: 323ms\tremaining: 129ms\n",
      "143:\tlearn: 0.2689869\ttotal: 325ms\tremaining: 127ms\n",
      "144:\tlearn: 0.2688232\ttotal: 328ms\tremaining: 124ms\n",
      "145:\tlearn: 0.2680143\ttotal: 330ms\tremaining: 122ms\n",
      "146:\tlearn: 0.2672401\ttotal: 333ms\tremaining: 120ms\n",
      "147:\tlearn: 0.2663350\ttotal: 335ms\tremaining: 118ms\n",
      "148:\tlearn: 0.2649508\ttotal: 337ms\tremaining: 115ms\n",
      "149:\tlearn: 0.2639433\ttotal: 340ms\tremaining: 113ms\n",
      "150:\tlearn: 0.2631322\ttotal: 342ms\tremaining: 111ms\n",
      "151:\tlearn: 0.2620411\ttotal: 344ms\tremaining: 109ms\n",
      "152:\tlearn: 0.2618072\ttotal: 346ms\tremaining: 106ms\n",
      "153:\tlearn: 0.2613736\ttotal: 349ms\tremaining: 104ms\n",
      "154:\tlearn: 0.2594434\ttotal: 351ms\tremaining: 102ms\n",
      "155:\tlearn: 0.2582405\ttotal: 353ms\tremaining: 99.6ms\n",
      "156:\tlearn: 0.2572575\ttotal: 355ms\tremaining: 97.3ms\n",
      "157:\tlearn: 0.2570767\ttotal: 357ms\tremaining: 95ms\n",
      "158:\tlearn: 0.2569173\ttotal: 359ms\tremaining: 92.7ms\n",
      "159:\tlearn: 0.2567600\ttotal: 362ms\tremaining: 90.4ms\n",
      "160:\tlearn: 0.2556172\ttotal: 364ms\tremaining: 88.1ms\n",
      "161:\tlearn: 0.2553592\ttotal: 366ms\tremaining: 85.8ms\n",
      "162:\tlearn: 0.2552242\ttotal: 368ms\tremaining: 83.4ms\n",
      "163:\tlearn: 0.2532843\ttotal: 370ms\tremaining: 81.1ms\n",
      "164:\tlearn: 0.2526316\ttotal: 372ms\tremaining: 78.9ms\n",
      "165:\tlearn: 0.2510523\ttotal: 374ms\tremaining: 76.6ms\n",
      "166:\tlearn: 0.2492511\ttotal: 376ms\tremaining: 74.3ms\n",
      "167:\tlearn: 0.2471211\ttotal: 378ms\tremaining: 72ms\n",
      "168:\tlearn: 0.2456705\ttotal: 380ms\tremaining: 69.7ms\n",
      "169:\tlearn: 0.2441555\ttotal: 382ms\tremaining: 67.5ms\n",
      "170:\tlearn: 0.2423006\ttotal: 384ms\tremaining: 65.2ms\n",
      "171:\tlearn: 0.2414720\ttotal: 387ms\tremaining: 62.9ms\n",
      "172:\tlearn: 0.2398670\ttotal: 389ms\tremaining: 60.7ms\n",
      "173:\tlearn: 0.2388072\ttotal: 391ms\tremaining: 58.4ms\n",
      "174:\tlearn: 0.2381579\ttotal: 393ms\tremaining: 56.1ms\n",
      "175:\tlearn: 0.2369848\ttotal: 396ms\tremaining: 53.9ms\n",
      "176:\tlearn: 0.2353171\ttotal: 398ms\tremaining: 51.7ms\n",
      "177:\tlearn: 0.2349936\ttotal: 400ms\tremaining: 49.5ms\n",
      "178:\tlearn: 0.2348461\ttotal: 403ms\tremaining: 47.2ms\n",
      "179:\tlearn: 0.2333903\ttotal: 405ms\tremaining: 45ms\n",
      "180:\tlearn: 0.2332703\ttotal: 407ms\tremaining: 42.7ms\n",
      "181:\tlearn: 0.2329022\ttotal: 409ms\tremaining: 40.5ms\n",
      "182:\tlearn: 0.2306124\ttotal: 412ms\tremaining: 38.2ms\n",
      "183:\tlearn: 0.2300128\ttotal: 414ms\tremaining: 36ms\n",
      "184:\tlearn: 0.2296246\ttotal: 415ms\tremaining: 33.7ms\n",
      "185:\tlearn: 0.2294463\ttotal: 417ms\tremaining: 31.4ms\n",
      "186:\tlearn: 0.2284323\ttotal: 419ms\tremaining: 29.1ms\n",
      "187:\tlearn: 0.2282875\ttotal: 421ms\tremaining: 26.9ms\n",
      "188:\tlearn: 0.2281624\ttotal: 423ms\tremaining: 24.6ms\n",
      "189:\tlearn: 0.2274646\ttotal: 425ms\tremaining: 22.4ms\n",
      "190:\tlearn: 0.2263413\ttotal: 427ms\tremaining: 20.1ms\n",
      "191:\tlearn: 0.2248724\ttotal: 429ms\tremaining: 17.9ms\n",
      "192:\tlearn: 0.2237362\ttotal: 431ms\tremaining: 15.6ms\n",
      "193:\tlearn: 0.2221564\ttotal: 433ms\tremaining: 13.4ms\n",
      "194:\tlearn: 0.2206864\ttotal: 435ms\tremaining: 11.1ms\n",
      "195:\tlearn: 0.2200714\ttotal: 437ms\tremaining: 8.91ms\n",
      "196:\tlearn: 0.2192936\ttotal: 438ms\tremaining: 6.67ms\n",
      "197:\tlearn: 0.2191523\ttotal: 440ms\tremaining: 4.45ms\n",
      "198:\tlearn: 0.2188120\ttotal: 442ms\tremaining: 2.22ms\n",
      "199:\tlearn: 0.2180771\ttotal: 444ms\tremaining: 0us\n"
     ]
    },
    {
     "data": {
      "text/plain": [
       "array([0.72857143, 0.73809524, 0.76666667, 0.70334928, 0.72727273])"
      ]
     },
     "execution_count": 96,
     "metadata": {},
     "output_type": "execute_result"
    }
   ],
   "source": [
    "cross_val_score(cat,X,y)"
   ]
  },
  {
   "cell_type": "code",
   "execution_count": 97,
   "id": "48787d62",
   "metadata": {},
   "outputs": [
    {
     "data": {
      "text/plain": [
       "0.73279107"
      ]
     },
     "execution_count": 97,
     "metadata": {},
     "output_type": "execute_result"
    }
   ],
   "source": [
    "np.mean([0.72857143, 0.73809524, 0.76666667, 0.70334928, 0.72727273])"
   ]
  },
  {
   "cell_type": "code",
   "execution_count": null,
   "id": "04d177b9",
   "metadata": {},
   "outputs": [],
   "source": []
  }
 ],
 "metadata": {
  "kernelspec": {
   "display_name": "Python 3 (ipykernel)",
   "language": "python",
   "name": "python3"
  },
  "language_info": {
   "codemirror_mode": {
    "name": "ipython",
    "version": 3
   },
   "file_extension": ".py",
   "mimetype": "text/x-python",
   "name": "python",
   "nbconvert_exporter": "python",
   "pygments_lexer": "ipython3",
   "version": "3.9.16"
  }
 },
 "nbformat": 4,
 "nbformat_minor": 5
}
